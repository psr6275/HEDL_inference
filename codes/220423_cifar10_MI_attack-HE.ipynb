{
 "cells": [
  {
   "cell_type": "code",
   "execution_count": 32,
   "metadata": {},
   "outputs": [],
   "source": [
    "import torch\n",
    "import torch.nn as nn\n",
    "import torch.optim as optim"
   ]
  },
  {
   "cell_type": "code",
   "execution_count": 33,
   "metadata": {},
   "outputs": [],
   "source": [
    "device = 'cuda:3' if torch.cuda.is_available() else 'cpu'"
   ]
  },
  {
   "cell_type": "code",
   "execution_count": 34,
   "metadata": {},
   "outputs": [],
   "source": [
    "torch.cuda.set_device(device)"
   ]
  },
  {
   "cell_type": "code",
   "execution_count": 35,
   "metadata": {},
   "outputs": [],
   "source": [
    "from utils import load_cifar10, load_cifar100, load_tinyimagenet"
   ]
  },
  {
   "cell_type": "code",
   "execution_count": 36,
   "metadata": {
    "scrolled": true
   },
   "outputs": [
    {
     "name": "stdout",
     "output_type": "stream",
     "text": [
      "Files already downloaded and verified\n",
      "Files already downloaded and verified\n"
     ]
    }
   ],
   "source": [
    "# load cifar10 data\n",
    "trainloader, testloader = load_cifar10(data_dir=\"../data/cifar10\", batch_size=128, \n",
    "                                       test_batch = 128,train_shuffle=True)\n",
    "classes = ('plane', 'car', 'bird', 'cat', 'deer',\n",
    "           'dog', 'frog', 'horse', 'ship', 'truck')"
   ]
  },
  {
   "cell_type": "code",
   "execution_count": 37,
   "metadata": {},
   "outputs": [],
   "source": [
    "from utils import train_valid_split"
   ]
  },
  {
   "cell_type": "markdown",
   "metadata": {},
   "source": [
    "- MIA attack 할 때에는 attack net 이 10,000개의 cifar100 training data 만 사용\n",
    "- 아래 cifar100 데이터로 나중에 attack net 학습 시에 사용했던 부분과 사용 안했던 부분을 나누어야 하기 때문에 stealloader 에서 일부 데이터만 사용\n",
    "- MIA attack 을 위해서 cifar100의 attack net 학습 시에 사용했던 데이터와 사용하지 않은 validation data 를 저장해 두어야 함!"
   ]
  },
  {
   "cell_type": "code",
   "execution_count": 20,
   "metadata": {},
   "outputs": [
    {
     "name": "stdout",
     "output_type": "stream",
     "text": [
      "Files already downloaded and verified\n",
      "Files already downloaded and verified\n"
     ]
    }
   ],
   "source": [
    "# load dataloader for steal\n",
    "stealloader,st_testloader = load_cifar100(data_dir=\"../data/cifar100\", batch_size=128, train_shuffle=False)"
   ]
  },
  {
   "cell_type": "code",
   "execution_count": 38,
   "metadata": {},
   "outputs": [],
   "source": [
    "# load tinyimagenet for outlier exposure\n",
    "outlier_loader = load_tinyimagenet(data_dir=\"../data/tiny-imagenet-200\",\n",
    "                                   batch_size=128, train_shuffle=True)"
   ]
  },
  {
   "cell_type": "markdown",
   "metadata": {},
   "source": [
    "# Steal Model "
   ]
  },
  {
   "cell_type": "markdown",
   "metadata": {},
   "source": [
    "## Attack comb net"
   ]
  },
  {
   "cell_type": "markdown",
   "metadata": {},
   "source": [
    "- CombNet 에서 tau 설정 필요\n",
    "- nb_stolen 으로 steal 시에 사용할 데이터 수 정할 수 있음"
   ]
  },
  {
   "cell_type": "code",
   "execution_count": 39,
   "metadata": {},
   "outputs": [],
   "source": [
    "class args:\n",
    "    save_dir = \"../results\"\n",
    "    orig_model = \"cifar_orig_taylor.pth\"\n",
    "#     fake_model = \"cifar_fake_random_net.pth\"\n",
    "    fake_model = \"cifar_fake_taylor_ML.pth\"\n",
    "    tau = 0.6\n",
    "#     nb_stolen = 10000 # attack model 학습시 사용할 데이터 수\n",
    "#     st_trloader = \"attnet_trloader.dl\"\n",
    "#     st_valloader = \"attnet_valloader.dl\"\n",
    "#     att_epochs = 300\n",
    "    att_model = \"cifar_attacknet_soft_taylor_ml_swd_tau%.1f.pth\"%(tau)"
   ]
  },
  {
   "cell_type": "code",
   "execution_count": 40,
   "metadata": {},
   "outputs": [
    {
     "data": {
      "text/plain": [
       "'cifar_attacknet_soft_taylor_ml_swd_tau0.6.pth'"
      ]
     },
     "execution_count": 40,
     "metadata": {},
     "output_type": "execute_result"
    }
   ],
   "source": [
    "args.att_model"
   ]
  },
  {
   "cell_type": "code",
   "execution_count": 41,
   "metadata": {},
   "outputs": [],
   "source": [
    "from cifar_models import Net, Net_logit, AttackNet, Net2\n",
    "from utils import CombNet, CombNet_logit"
   ]
  },
  {
   "cell_type": "code",
   "execution_count": 42,
   "metadata": {
    "scrolled": true
   },
   "outputs": [],
   "source": [
    "import os\n",
    "net = Net2()\n",
    "net.load_state_dict(torch.load(os.path.join(args.save_dir,args.orig_model),map_location='cpu'))\n",
    "\n",
    "\n",
    "net_fake = Net2()\n",
    "net_fake.load_state_dict(torch.load(os.path.join(args.save_dir,args.fake_model),map_location='cpu'))\n",
    "\n",
    "\n",
    "comb_net = CombNet(net, net_fake, args.tau)"
   ]
  },
  {
   "cell_type": "code",
   "execution_count": null,
   "metadata": {},
   "outputs": [],
   "source": [
    "att_net = AttackNet()\n",
    "att_net.load_state_dict(torch.load(os.path.join(args.save_dir, args.att_model),map_location='cpu'))"
   ]
  },
  {
   "cell_type": "code",
   "execution_count": 44,
   "metadata": {},
   "outputs": [
    {
     "data": {
      "text/plain": [
       "CombNet(\n",
       "  (net_orig): Net2(\n",
       "    (pool): AvgPool2d(kernel_size=2, stride=2, padding=0)\n",
       "    (conv1): Conv2d(3, 32, kernel_size=(3, 3), stride=(1, 1), padding=(1, 1))\n",
       "    (conv2): Conv2d(32, 64, kernel_size=(3, 3), stride=(1, 1), padding=(1, 1))\n",
       "    (conv3): Conv2d(64, 128, kernel_size=(3, 3), stride=(1, 1), padding=(1, 1))\n",
       "    (classifier): Sequential(\n",
       "      (0): Linear(in_features=2048, out_features=256, bias=True)\n",
       "      (1): Linear(in_features=256, out_features=10, bias=True)\n",
       "    )\n",
       "  )\n",
       "  (net_fake): Net2(\n",
       "    (pool): AvgPool2d(kernel_size=2, stride=2, padding=0)\n",
       "    (conv1): Conv2d(3, 32, kernel_size=(3, 3), stride=(1, 1), padding=(1, 1))\n",
       "    (conv2): Conv2d(32, 64, kernel_size=(3, 3), stride=(1, 1), padding=(1, 1))\n",
       "    (conv3): Conv2d(64, 128, kernel_size=(3, 3), stride=(1, 1), padding=(1, 1))\n",
       "    (classifier): Sequential(\n",
       "      (0): Linear(in_features=2048, out_features=256, bias=True)\n",
       "      (1): Linear(in_features=256, out_features=10, bias=True)\n",
       "    )\n",
       "  )\n",
       ")"
      ]
     },
     "execution_count": 44,
     "metadata": {},
     "output_type": "execute_result"
    }
   ],
   "source": [
    "pred = comb_net.to(device)(x.to(device)).detach().cpu()\n",
    "comb_net.cpu()"
   ]
  },
  {
   "cell_type": "code",
   "execution_count": 45,
   "metadata": {
    "scrolled": true
   },
   "outputs": [
    {
     "data": {
      "text/plain": [
       "Net2(\n",
       "  (pool): AvgPool2d(kernel_size=2, stride=2, padding=0)\n",
       "  (conv1): Conv2d(3, 32, kernel_size=(3, 3), stride=(1, 1), padding=(1, 1))\n",
       "  (conv2): Conv2d(32, 64, kernel_size=(3, 3), stride=(1, 1), padding=(1, 1))\n",
       "  (conv3): Conv2d(64, 128, kernel_size=(3, 3), stride=(1, 1), padding=(1, 1))\n",
       "  (classifier): Sequential(\n",
       "    (0): Linear(in_features=2048, out_features=256, bias=True)\n",
       "    (1): Linear(in_features=256, out_features=10, bias=True)\n",
       "  )\n",
       ")"
      ]
     },
     "execution_count": 45,
     "metadata": {},
     "output_type": "execute_result"
    }
   ],
   "source": [
    "pred_t = net.to(device)(x.to(device)).detach().cpu()\n",
    "pred_f = net_fake.to(device)(x.to(device)).detach().cpu()\n",
    "net.cpu()\n",
    "net_fake.cpu()"
   ]
  },
  {
   "cell_type": "code",
   "execution_count": 48,
   "metadata": {},
   "outputs": [],
   "source": [
    "from utils import train_valid_split\n",
    "from utils import test_corr_model, Net_softmax, test_model\n",
    "from utils import prepare_MIAattack_loader"
   ]
  },
  {
   "cell_type": "code",
   "execution_count": 46,
   "metadata": {},
   "outputs": [],
   "source": [
    "from mia.estimators import AttackModelBundle\n",
    "NUM_CLASSES=10\n",
    "import tensorflow as tf\n",
    "from tensorflow.keras import layers\n",
    "\n",
    "def attack_model_fn():\n",
    "    \"\"\"Attack model that takes target model predictions and predicts membership.\n",
    "    Following the original paper, this attack model is specific to the class of the input.\n",
    "    AttachModelBundle creates multiple instances of this model for each class.\n",
    "    \"\"\"\n",
    "    model = tf.keras.models.Sequential()\n",
    "\n",
    "    model.add(layers.Dense(128, activation=\"relu\", input_shape=(NUM_CLASSES,)))\n",
    "\n",
    "    model.add(layers.Dropout(0.3, noise_shape=None, seed=None))\n",
    "    model.add(layers.Dense(64, activation=\"relu\"))\n",
    "    model.add(layers.Dropout(0.2, noise_shape=None, seed=None))\n",
    "    model.add(layers.Dense(64, activation=\"relu\"))\n",
    "\n",
    "    model.add(layers.Dense(1, activation=\"sigmoid\"))\n",
    "    model.compile(\"adam\", loss=\"binary_crossentropy\", metrics=[\"accuracy\"])\n",
    "    return model\n",
    "def run_mia_attack(comb_net, train_loader, test_loader):\n",
    "    ori_trloader1,ori_trloader2 = train_valid_split(train_loader, total_data=10000, ratio=0.5) \n",
    "    ori_teloader1, ori_teloader2 = train_valid_split(test_loader, total_data=10000, ratio=0.5) \n",
    "    mia_trloader = prepare_MIAattack_loader(comb_net, ori_trloader1, ori_teloader1, device)\n",
    "\n",
    "    X_shadow,y_shadow = mia_trloader.dataset.tensors[0].numpy(),mia_trloader.dataset.tensors[1].numpy()\n",
    "    amb = AttackModelBundle(attack_model_fn, num_classes=NUM_CLASSES)\n",
    "    amb.fit(X_shadow, y_shadow)\n",
    "    tr_acc = np.mean(amb.predict(X_shadow)==y_shadow)\n",
    "    print(\"training accuracy\",tr_acc)\n",
    "    \n",
    "    mia_teloader = prepare_MIAattack_loader(comb_net, ori_trloader2, ori_teloader2, device)\n",
    "    X_shadow_te,y_shadow_te = mia_teloader.dataset.tensors[0].numpy(),mia_teloader.dataset.tensors[1].numpy()\n",
    "    te_acc = np.mean(amb.predict(X_shadow_te)==y_shadow_te)\n",
    "    print(\"test accuracy:\",te_acc)\n",
    "    return amb, tr_acc, te_acc"
   ]
  },
  {
   "cell_type": "code",
   "execution_count": null,
   "metadata": {},
   "outputs": [
    {
     "name": "stdout",
     "output_type": "stream",
     "text": [
      "total data: 10000\n",
      "total data: 10000\n"
     ]
    }
   ],
   "source": [
    "_, tr_acc, te_acc = run_mia_attack(net, trainloader, testloader)"
   ]
  },
  {
   "cell_type": "code",
   "execution_count": null,
   "metadata": {},
   "outputs": [],
   "source": []
  },
  {
   "cell_type": "code",
   "execution_count": null,
   "metadata": {},
   "outputs": [],
   "source": []
  },
  {
   "cell_type": "code",
   "execution_count": null,
   "metadata": {},
   "outputs": [],
   "source": []
  },
  {
   "cell_type": "code",
   "execution_count": null,
   "metadata": {},
   "outputs": [],
   "source": []
  },
  {
   "cell_type": "code",
   "execution_count": null,
   "metadata": {},
   "outputs": [],
   "source": []
  },
  {
   "cell_type": "code",
   "execution_count": null,
   "metadata": {},
   "outputs": [],
   "source": []
  },
  {
   "cell_type": "code",
   "execution_count": null,
   "metadata": {},
   "outputs": [],
   "source": []
  },
  {
   "cell_type": "code",
   "execution_count": null,
   "metadata": {},
   "outputs": [],
   "source": []
  },
  {
   "cell_type": "code",
   "execution_count": null,
   "metadata": {},
   "outputs": [],
   "source": []
  },
  {
   "cell_type": "code",
   "execution_count": 149,
   "metadata": {},
   "outputs": [
    {
     "name": "stdout",
     "output_type": "stream",
     "text": [
      "tensor([False, False, False, False, False, False, False, False, False, False,\n",
      "        False, False, False, False, False, False, False, False,  True, False,\n",
      "        False, False, False, False, False, False, False, False, False, False,\n",
      "        False, False, False, False, False, False, False, False,  True, False,\n",
      "        False, False, False, False, False, False, False,  True, False, False,\n",
      "        False, False, False, False, False, False, False,  True, False, False,\n",
      "        False, False, False, False, False, False, False, False, False, False,\n",
      "        False, False, False, False, False, False,  True, False, False, False,\n",
      "        False, False, False, False, False, False, False, False, False, False,\n",
      "        False, False, False, False, False, False, False, False, False, False,\n",
      "        False, False, False, False, False, False, False, False,  True, False,\n",
      "        False, False, False, False, False,  True, False, False, False, False,\n",
      "        False, False, False, False, False, False, False, False])\n",
      "torch.return_types.max(\n",
      "values=tensor([0.9828, 0.6047, 0.6375, 0.9420, 0.9020, 0.6230, 0.6028, 0.9298, 0.8031,\n",
      "        0.7746, 0.7491, 0.5225, 0.8705, 0.5637, 0.6738, 0.5650, 0.7721, 0.5096,\n",
      "        0.9804, 0.9326, 0.5054, 0.9079, 0.9011, 0.6975, 0.9412, 0.4619, 0.9147,\n",
      "        0.9985, 0.8858, 0.9986, 0.9597, 0.7773, 0.7952, 0.9469, 0.9177, 0.9972,\n",
      "        0.9197, 0.6396, 0.7825, 0.9821, 0.9746, 0.4925, 0.9732, 0.9659, 0.8754,\n",
      "        0.6147, 0.5927, 0.5673, 0.9728, 0.7385, 0.5104, 0.9687, 0.9763, 0.7591,\n",
      "        0.8783, 0.6368, 0.8121, 0.9011, 0.9047, 0.8379, 0.8900, 0.6593, 0.8395,\n",
      "        0.6119, 0.9046, 0.7650, 0.6354, 0.9465, 0.7501, 0.8166, 0.9134, 0.5295,\n",
      "        0.5418, 0.9447, 0.8583, 0.9330, 0.9559, 0.5538, 0.6719, 0.9402, 0.8326,\n",
      "        0.4705, 0.7064, 0.7409, 0.5031, 0.8755, 0.9881, 0.8613, 0.8586, 0.9232,\n",
      "        0.4333, 0.9635, 0.8237, 0.5637, 0.7844, 0.8830, 0.9005, 0.7146, 0.6319,\n",
      "        0.9435, 0.6352, 0.8729, 0.9307, 0.9155, 0.6237, 0.6118, 0.8843, 0.3718,\n",
      "        0.8438, 0.9873, 0.4200, 0.5388, 0.6820, 0.7152, 0.6399, 0.4912, 0.9549,\n",
      "        0.8073, 0.5787, 0.9722, 0.9293]),\n",
      "indices=tensor([8, 1, 8, 6, 6, 4, 6, 1, 6, 6, 8, 6, 1, 8, 8, 8, 6, 6, 8, 8, 6, 6, 6, 8,\n",
      "        6, 6, 8, 1, 6, 8, 6, 1, 6, 8, 8, 6, 6, 8, 8, 6, 6, 8, 5, 6, 6, 1, 8, 1,\n",
      "        6, 6, 8, 8, 1, 1, 8, 8, 8, 5, 8, 6, 8, 6, 8, 1, 6, 1, 8, 6, 8, 6, 6, 8,\n",
      "        8, 6, 8, 8, 6, 8, 4, 6, 8, 4, 6, 8, 5, 6, 8, 8, 8, 6, 1, 8, 6, 1, 8, 1,\n",
      "        8, 8, 6, 8, 6, 6, 6, 6, 4, 8, 6, 5, 6, 6, 8, 6, 1, 8, 6, 1, 8, 8, 4, 8,\n",
      "        6]))\n",
      "tensor(0.4425)\n"
     ]
    }
   ],
   "source": [
    "i=17\n",
    "# print(pred[i])\n",
    "# print(pred_t[i])\n",
    "# print(pred_f[i])\n",
    "cond_in = torch.max(pred_t, dim=1).values>0.9\n",
    "print(cond_in)\n",
    "# print(sum(torch.max(pred_t,axis=1)[0]<=0.9)/len(pred))\n",
    "print(torch.max(pred_f[cond_in==False],dim=1))\n",
    "print(torch.max(pred_t[i]))\n",
    "# print(pred_f*(~cond_in.view(-1,1)))\n",
    "# print(pred_t*(~cond_in.view(-1,1)))\n",
    "# import matplotlib.pyplot as plt\n",
    "# aa = torch.max(pred_f,axis=1)[1]\n",
    "# print(aa)\n"
   ]
  },
  {
   "cell_type": "code",
   "execution_count": 26,
   "metadata": {},
   "outputs": [
    {
     "data": {
      "image/png": "[encoded data removed]",
      "text/plain": [
       "<Figure size 432x288 with 1 Axes>"
      ]
     },
     "metadata": {
      "needs_background": "light"
     },
     "output_type": "display_data"
    },
    {
     "data": {
      "image/png": "[encoded data removed]",
      "text/plain": [
       "<Figure size 432x288 with 1 Axes>"
      ]
     },
     "metadata": {
      "needs_background": "light"
     },
     "output_type": "display_data"
    },
    {
     "data": {
      "image/png": "[encoded data removed]",
      "text/plain": [
       "<Figure size 432x288 with 1 Axes>"
      ]
     },
     "metadata": {
      "needs_background": "light"
     },
     "output_type": "display_data"
    }
   ],
   "source": [
    "from utils import maxclass_hist, prediction_hist\n",
    "# comb_net = CombNet_logit(net, net_fake, tau=0.99)\n",
    "maxclass_hist(testloader, net_fake, device, plt_title=\"fake network for cifar10\",\n",
    "              clipping=True, clip_vals=[None,1000])\n",
    "# maxclass_hist(testloader, net, device, plt_title=\"logit network for cifar10\",\n",
    "#               clipping=True, clip_vals=[None,1000])\n",
    "maxclass_hist(testloader, net, device, plt_title=\"true network for cifar10\",\n",
    "              clipping=True, clip_vals=[None,1000])\n",
    "maxclass_hist(testloader, comb_net, device, plt_title=\"comb network for cifar10\",\n",
    "              clipping=True, clip_vals=[None,1000])"
   ]
  },
  {
   "cell_type": "code",
   "execution_count": 27,
   "metadata": {},
   "outputs": [
    {
     "data": {
      "image/png": "[encoded data removed]",
      "text/plain": [
       "<Figure size 432x288 with 1 Axes>"
      ]
     },
     "metadata": {
      "needs_background": "light"
     },
     "output_type": "display_data"
    }
   ],
   "source": [
    "prediction_hist(testloader, net_fake, device, plt_title=\"prediction of logit network for cifar10\")"
   ]
  },
  {
   "cell_type": "code",
   "execution_count": 28,
   "metadata": {},
   "outputs": [
    {
     "data": {
      "text/plain": [
       "<All keys matched successfully>"
      ]
     },
     "execution_count": 28,
     "metadata": {},
     "output_type": "execute_result"
    }
   ],
   "source": [
    "att_net = AttackNet()\n",
    "att_net.load_state_dict(torch.load(os.path.join(args.save_dir, args.att_model),map_location='cpu'))"
   ]
  },
  {
   "cell_type": "markdown",
   "metadata": {},
   "source": [
    "## test steal model"
   ]
  },
  {
   "cell_type": "code",
   "execution_count": 29,
   "metadata": {},
   "outputs": [],
   "source": [
    "from utils import test_corr_model, Net_softmax, test_model\n",
    "# att_net_prob = Net_softmax(att_net)\n",
    "att_net_prob = att_net"
   ]
  },
  {
   "cell_type": "code",
   "execution_count": 30,
   "metadata": {},
   "outputs": [
    {
     "name": "stdout",
     "output_type": "stream",
     "text": [
      "Accuracy/Loss 1: 55.42/1.9807\n",
      "Accuracy/Loss 2: 20.11/2.2207\n",
      "Correspondence:  tensor(30.5200)\n"
     ]
    }
   ],
   "source": [
    "\n",
    "criterion_att = nn.CrossEntropyLoss()\n",
    "loss1, loss2, acc1, acc2, corr = test_corr_model(comb_net, att_net_prob, testloader, criterion_att, device)"
   ]
  },
  {
   "cell_type": "code",
   "execution_count": 31,
   "metadata": {},
   "outputs": [
    {
     "data": {
      "text/plain": [
       "(tensor(1.8350), tensor(76.6900))"
      ]
     },
     "execution_count": 31,
     "metadata": {},
     "output_type": "execute_result"
    }
   ],
   "source": [
    "test_model(net, testloader, criterion_att, device,100.0)"
   ]
  },
  {
   "cell_type": "markdown",
   "metadata": {},
   "source": [
    "# Test MIA from att_net"
   ]
  },
  {
   "cell_type": "markdown",
   "metadata": {},
   "source": [
    "## mia dataloader"
   ]
  },
  {
   "cell_type": "code",
   "execution_count": 15,
   "metadata": {},
   "outputs": [],
   "source": [
    "from utils import train_valid_split"
   ]
  },
  {
   "cell_type": "code",
   "execution_count": 16,
   "metadata": {},
   "outputs": [
    {
     "name": "stdout",
     "output_type": "stream",
     "text": [
      "total data: 10000\n",
      "total data: 10000\n",
      "total data: 10000\n"
     ]
    }
   ],
   "source": [
    "ori_trloader1,ori_trloader2 = train_valid_split(trainloader, total_data=10000, ratio=0.5) \n",
    "ori_teloader1, ori_teloader2 = train_valid_split(testloader, total_data=10000, ratio=0.5) \n",
    "st_teloader1, st_teloader2 = train_valid_split(st_testloader, total_data=10000, ratio=0.5) "
   ]
  },
  {
   "cell_type": "code",
   "execution_count": 17,
   "metadata": {},
   "outputs": [],
   "source": [
    "from utils import prepare_MIAattack_loader"
   ]
  },
  {
   "cell_type": "markdown",
   "metadata": {},
   "source": [
    "- prepare_MIAattack_loader 에서 인자는 차례대로 학습에 사용한 network, 학습에 사용한 데이터, 학습에 사용하지 않은 데이터 에 해당한다!"
   ]
  },
  {
   "cell_type": "code",
   "execution_count": 18,
   "metadata": {},
   "outputs": [
    {
     "name": "stdout",
     "output_type": "stream",
     "text": [
      "data shape: torch.Size([10000, 20])\n",
      "number of data for training and valid: 5000 5000\n",
      "data shape: torch.Size([10000, 20])\n",
      "number of data for training and valid: 5000 5000\n"
     ]
    }
   ],
   "source": [
    "mia_trloader = prepare_MIAattack_loader(att_net_prob, ori_trloader1, ori_teloader1, device)\n",
    "mia_teloader = prepare_MIAattack_loader(att_net_prob, ori_trloader2, ori_teloader2, device)"
   ]
  },
  {
   "cell_type": "markdown",
   "metadata": {},
   "source": [
    "## train mia attack model"
   ]
  },
  {
   "cell_type": "code",
   "execution_count": 21,
   "metadata": {},
   "outputs": [],
   "source": [
    "from mia.estimators import AttackModelBundle\n",
    "NUM_CLASSES=10"
   ]
  },
  {
   "cell_type": "code",
   "execution_count": 39,
   "metadata": {},
   "outputs": [],
   "source": [
    "import tensorflow as tf\n",
    "from tensorflow.keras import layers\n",
    "\n",
    "def attack_model_fn():\n",
    "    \"\"\"Attack model that takes target model predictions and predicts membership.\n",
    "    Following the original paper, this attack model is specific to the class of the input.\n",
    "    AttachModelBundle creates multiple instances of this model for each class.\n",
    "    \"\"\"\n",
    "    model = tf.keras.models.Sequential()\n",
    "\n",
    "    model.add(layers.Dense(128, activation=\"relu\", input_shape=(NUM_CLASSES,)))\n",
    "\n",
    "    model.add(layers.Dropout(0.3, noise_shape=None, seed=None))\n",
    "    model.add(layers.Dense(64, activation=\"relu\"))\n",
    "    model.add(layers.Dropout(0.2, noise_shape=None, seed=None))\n",
    "    model.add(layers.Dense(64, activation=\"relu\"))\n",
    "\n",
    "    model.add(layers.Dense(1, activation=\"sigmoid\"))\n",
    "    model.compile(\"adam\", loss=\"binary_crossentropy\", metrics=[\"accuracy\"])\n",
    "    return model"
   ]
  },
  {
   "cell_type": "code",
   "execution_count": 30,
   "metadata": {},
   "outputs": [],
   "source": [
    "X_shadow,y_shadow = mia_trloader.dataset.tensors[0].numpy(),mia_trloader.dataset.tensors[1].numpy()\n",
    "X_shadow_te,y_shadow_te = mia_teloader.dataset.tensors[0].numpy(),mia_teloader.dataset.tensors[1].numpy()"
   ]
  },
  {
   "cell_type": "code",
   "execution_count": 33,
   "metadata": {},
   "outputs": [
    {
     "name": "stdout",
     "output_type": "stream",
     "text": [
      "(10000, 20) (10000,)\n",
      "[9.1908818e-01 2.4364365e-03 1.2195308e-02 1.1406875e-02 7.2277887e-03\n",
      " 4.0255357e-02 3.4514008e-04 3.9821290e-03 2.1601827e-03 9.0255385e-04\n",
      " 1.0000000e+00 0.0000000e+00 0.0000000e+00 0.0000000e+00 0.0000000e+00\n",
      " 0.0000000e+00 0.0000000e+00 0.0000000e+00 0.0000000e+00 0.0000000e+00]\n"
     ]
    }
   ],
   "source": [
    "print(X_shadow.shape, y_shadow.shape)\n",
    "print(X_shadow[0])"
   ]
  },
  {
   "cell_type": "code",
   "execution_count": 37,
   "metadata": {},
   "outputs": [],
   "source": [
    "amb = AttackModelBundle(attack_model_fn, num_classes=NUM_CLASSES)"
   ]
  },
  {
   "cell_type": "code",
   "execution_count": 40,
   "metadata": {},
   "outputs": [
    {
     "name": "stdout",
     "output_type": "stream",
     "text": [
      "31/31 [==============================] - 3s 5ms/step - loss: 0.6933 - accuracy: 0.5118\n",
      "31/31 [==============================] - 0s 5ms/step - loss: 0.6939 - accuracy: 0.4878\n",
      "32/32 [==============================] - 0s 5ms/step - loss: 0.6943 - accuracy: 0.4872\n",
      "33/33 [==============================] - 1s 5ms/step - loss: 0.6940 - accuracy: 0.4990\n",
      "32/32 [==============================] - 1s 5ms/step - loss: 0.6940 - accuracy: 0.5094\n",
      "30/30 [==============================] - 0s 5ms/step - loss: 0.6938 - accuracy: 0.5048\n",
      "32/32 [==============================] - 0s 5ms/step - loss: 0.6953 - accuracy: 0.4581\n",
      "33/33 [==============================] - 0s 5ms/step - loss: 0.6935 - accuracy: 0.5067\n",
      "31/31 [==============================] - 0s 5ms/step - loss: 0.6939 - accuracy: 0.5101\n",
      "32/32 [==============================] - 0s 5ms/step - loss: 0.6948 - accuracy: 0.4887\n"
     ]
    }
   ],
   "source": [
    "amb.fit(X_shadow, y_shadow)"
   ]
  },
  {
   "cell_type": "code",
   "execution_count": 43,
   "metadata": {},
   "outputs": [
    {
     "data": {
      "text/plain": [
       "0.494"
      ]
     },
     "execution_count": 43,
     "metadata": {},
     "output_type": "execute_result"
    }
   ],
   "source": [
    "import numpy as np\n",
    "np.mean(amb.predict(X_shadow_te)==y_shadow_te)"
   ]
  },
  {
   "cell_type": "code",
   "execution_count": null,
   "metadata": {},
   "outputs": [],
   "source": []
  },
  {
   "cell_type": "code",
   "execution_count": null,
   "metadata": {},
   "outputs": [],
   "source": []
  },
  {
   "cell_type": "code",
   "execution_count": null,
   "metadata": {},
   "outputs": [],
   "source": []
  },
  {
   "cell_type": "code",
   "execution_count": 21,
   "metadata": {},
   "outputs": [],
   "source": [
    "from cifar_models import Net_MIA"
   ]
  },
  {
   "cell_type": "code",
   "execution_count": 22,
   "metadata": {},
   "outputs": [],
   "source": [
    "from utils import test_model, AverageVarMeter, train_mia_model"
   ]
  },
  {
   "cell_type": "code",
   "execution_count": 28,
   "metadata": {},
   "outputs": [
    {
     "data": {
      "text/plain": [
       "(tensor([[6.2552e-03, 5.2083e-01, 7.8346e-03,  ..., 0.0000e+00, 1.0000e+00,\n",
       "          0.0000e+00],\n",
       "         [2.1291e-02, 8.1158e-02, 1.6784e-02,  ..., 1.0000e+00, 0.0000e+00,\n",
       "          0.0000e+00],\n",
       "         [9.3101e-02, 6.7192e-04, 4.2825e-01,  ..., 0.0000e+00, 0.0000e+00,\n",
       "          0.0000e+00],\n",
       "         ...,\n",
       "         [9.2651e-03, 1.2185e-01, 6.0885e-02,  ..., 0.0000e+00, 0.0000e+00,\n",
       "          0.0000e+00],\n",
       "         [1.0157e-02, 3.9354e-01, 1.4410e-02,  ..., 0.0000e+00, 0.0000e+00,\n",
       "          0.0000e+00],\n",
       "         [9.2844e-01, 1.3178e-02, 4.1829e-02,  ..., 0.0000e+00, 1.0000e+00,\n",
       "          0.0000e+00]]),\n",
       " tensor([1., 1., 1.,  ..., 0., 0., 0.]))"
      ]
     },
     "execution_count": 28,
     "metadata": {},
     "output_type": "execute_result"
    }
   ],
   "source": [
    "mia_trloader.dataset.tensors"
   ]
  },
  {
   "cell_type": "code",
   "execution_count": null,
   "metadata": {},
   "outputs": [],
   "source": []
  },
  {
   "cell_type": "code",
   "execution_count": null,
   "metadata": {},
   "outputs": [],
   "source": []
  },
  {
   "cell_type": "code",
   "execution_count": null,
   "metadata": {},
   "outputs": [],
   "source": []
  },
  {
   "cell_type": "code",
   "execution_count": null,
   "metadata": {},
   "outputs": [],
   "source": []
  },
  {
   "cell_type": "code",
   "execution_count": null,
   "metadata": {},
   "outputs": [],
   "source": []
  },
  {
   "cell_type": "code",
   "execution_count": 23,
   "metadata": {},
   "outputs": [],
   "source": [
    "mia_att_net = Net_MIA()"
   ]
  },
  {
   "cell_type": "code",
   "execution_count": 26,
   "metadata": {},
   "outputs": [],
   "source": [
    "mia_criterion = nn.BCELoss()\n",
    "mia_optimizer = optim.Adam(mia_att_net.parameters())\n",
    "mia_epochs = 100"
   ]
  },
  {
   "cell_type": "code",
   "execution_count": 27,
   "metadata": {},
   "outputs": [
    {
     "data": {
      "image/png": "[encoded data removed]",
      "text/plain": [
       "<Figure size 864x576 with 2 Axes>"
      ]
     },
     "metadata": {
      "needs_background": "light"
     },
     "output_type": "display_data"
    },
    {
     "name": "stdout",
     "output_type": "stream",
     "text": [
      "Accuracy\n",
      "\ttraining         \t (min:    0.526, max:    0.576, cur:    0.571)\n",
      "\tvalidation       \t (min:    0.491, max:    0.507, cur:    0.499)\n",
      "Loss\n",
      "\ttraining         \t (min:    0.666, max:    0.690, cur:    0.667)\n",
      "\tvalidation       \t (min:    0.695, max:    0.721, cur:    0.713)\n"
     ]
    },
    {
     "data": {
      "text/plain": [
       "(Net_MIA(\n",
       "   (lin1): Linear(in_features=20, out_features=128, bias=True)\n",
       "   (lin2): Linear(in_features=128, out_features=64, bias=True)\n",
       "   (lin3): Linear(in_features=64, out_features=64, bias=True)\n",
       "   (lin4): Linear(in_features=64, out_features=1, bias=True)\n",
       " ),\n",
       " {'loss': 0.6671925783157349,\n",
       "  'acc': 0.5714,\n",
       "  'val_loss': 0.7125716209411621,\n",
       "  'val_acc': 0.4994})"
      ]
     },
     "execution_count": 27,
     "metadata": {},
     "output_type": "execute_result"
    }
   ],
   "source": [
    "train_mia_model(mia_att_net, att_net, mia_trloader, mia_criterion, mia_optimizer, \n",
    "                 mia_epochs, device, mia_testloader = mia_teloader, \n",
    "                save_dir = \"../results\", save_model = \"cifar_mia_model.pth\")"
   ]
  },
  {
   "cell_type": "markdown",
   "metadata": {},
   "source": [
    "## Test MIA attacks"
   ]
  },
  {
   "cell_type": "code",
   "execution_count": 25,
   "metadata": {},
   "outputs": [],
   "source": [
    "from utils import test_binary_model"
   ]
  },
  {
   "cell_type": "code",
   "execution_count": 26,
   "metadata": {},
   "outputs": [
    {
     "name": "stdout",
     "output_type": "stream",
     "text": [
      "total data: 20000\n",
      "data shape: torch.Size([20000, 3082])\n",
      "number of data for training and valid: 10000 10000\n",
      "(0.790289580821991, 0.505)\n"
     ]
    }
   ],
   "source": [
    "ori_trloader,ori_trloader2 = train_valid_split(trainloader)\n",
    "mia_testloader = prepare_MIAattack_loader(att_net_prob, ori_trloader, testloader,device)\n",
    "print(test_binary_model(mia_att_net, mia_testloader, mia_criterion, device, 100.0))"
   ]
  },
  {
   "cell_type": "code",
   "execution_count": 27,
   "metadata": {},
   "outputs": [
    {
     "name": "stdout",
     "output_type": "stream",
     "text": [
      "data shape: torch.Size([20000, 3082])\n",
      "number of data for training and valid: 10000 10000\n"
     ]
    },
    {
     "data": {
      "text/plain": [
       "(0.7866438031196594, 0.50595)"
      ]
     },
     "execution_count": 27,
     "metadata": {},
     "output_type": "execute_result"
    }
   ],
   "source": [
    "mia_testloader2 = prepare_MIAattack_loader(comb_net, ori_trloader, testloader,device)\n",
    "test_binary_model(mia_att_net, mia_testloader2, mia_criterion, device, 100.0)"
   ]
  }
 ],
 "metadata": {
  "kernelspec": {
   "display_name": "torch19",
   "language": "python",
   "name": "torch19"
  },
  "language_info": {
   "codemirror_mode": {
    "name": "ipython",
    "version": 3
   },
   "file_extension": ".py",
   "mimetype": "text/x-python",
   "name": "python",
   "nbconvert_exporter": "python",
   "pygments_lexer": "ipython3",
   "version": "3.9.5"
  }
 },
 "nbformat": 4,
 "nbformat_minor": 4
}
