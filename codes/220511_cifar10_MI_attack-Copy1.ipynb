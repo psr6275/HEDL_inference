{
 "cells": [
  {
   "cell_type": "code",
   "execution_count": 1,
   "metadata": {},
   "outputs": [],
   "source": [
    "import torch\n",
    "import torch.nn as nn\n",
    "import torch.optim as optim"
   ]
  },
  {
   "cell_type": "code",
   "execution_count": 2,
   "metadata": {},
   "outputs": [],
   "source": [
    "device = 'cuda:3' if torch.cuda.is_available() else 'cpu'"
   ]
  },
  {
   "cell_type": "code",
   "execution_count": 3,
   "metadata": {},
   "outputs": [],
   "source": [
    "torch.cuda.set_device(device)"
   ]
  },
  {
   "cell_type": "code",
   "execution_count": 4,
   "metadata": {},
   "outputs": [],
   "source": [
    "from utils import load_cifar10, load_cifar100, load_tinyimagenet"
   ]
  },
  {
   "cell_type": "code",
   "execution_count": 5,
   "metadata": {
    "scrolled": true
   },
   "outputs": [
    {
     "name": "stdout",
     "output_type": "stream",
     "text": [
      "Files already downloaded and verified\n",
      "Files already downloaded and verified\n"
     ]
    }
   ],
   "source": [
    "# load cifar10 data\n",
    "trainloader, testloader = load_cifar10(data_dir=\"../data/cifar10\", batch_size=128, \n",
    "                                       test_batch = 128,train_shuffle=True)\n",
    "classes = ('plane', 'car', 'bird', 'cat', 'deer',\n",
    "           'dog', 'frog', 'horse', 'ship', 'truck')"
   ]
  },
  {
   "cell_type": "code",
   "execution_count": 6,
   "metadata": {},
   "outputs": [],
   "source": [
    "from utils import train_valid_split"
   ]
  },
  {
   "cell_type": "markdown",
   "metadata": {},
   "source": [
    "- MIA attack 할 때에는 attack net 이 10,000개의 cifar100 training data 만 사용\n",
    "- 아래 cifar100 데이터로 나중에 attack net 학습 시에 사용했던 부분과 사용 안했던 부분을 나누어야 하기 때문에 stealloader 에서 일부 데이터만 사용\n",
    "- MIA attack 을 위해서 cifar100의 attack net 학습 시에 사용했던 데이터와 사용하지 않은 validation data 를 저장해 두어야 함!"
   ]
  },
  {
   "cell_type": "code",
   "execution_count": 7,
   "metadata": {},
   "outputs": [
    {
     "name": "stdout",
     "output_type": "stream",
     "text": [
      "Files already downloaded and verified\n",
      "Files already downloaded and verified\n"
     ]
    }
   ],
   "source": [
    "# load dataloader for steal\n",
    "stealloader,st_testloader = load_cifar100(data_dir=\"../data/cifar100\", batch_size=128, train_shuffle=False)"
   ]
  },
  {
   "cell_type": "code",
   "execution_count": 8,
   "metadata": {},
   "outputs": [],
   "source": [
    "# load tinyimagenet for outlier exposure\n",
    "outlier_loader = load_tinyimagenet(data_dir=\"../data/tiny-imagenet-200\",\n",
    "                                   batch_size=128, train_shuffle=True)"
   ]
  },
  {
   "cell_type": "markdown",
   "metadata": {},
   "source": [
    "# Steal Model "
   ]
  },
  {
   "cell_type": "markdown",
   "metadata": {},
   "source": [
    "## Attack comb net"
   ]
  },
  {
   "cell_type": "markdown",
   "metadata": {},
   "source": [
    "- CombNet 에서 tau 설정 필요\n",
    "- nb_stolen 으로 steal 시에 사용할 데이터 수 정할 수 있음"
   ]
  },
  {
   "cell_type": "code",
   "execution_count": 9,
   "metadata": {},
   "outputs": [],
   "source": [
    "class args:\n",
    "    save_dir = \"../results\"\n",
    "#     orig_model = \"cifar_orig_taylor.pth\"\n",
    "    orig_model = \"cifar_orig_logit.pth\"\n",
    "#     fake_model = \"cifar_fake_random_net.pth\"\n",
    "#     fake_model = \"cifar_fake_taylor_ML.pth\"\n",
    "    fake_model = \"cifar_fake_logit_ML_swd.pth\"\n",
    "    tau = 0.6\n",
    "    nb_stolen = 10000 # attack model 학습시 사용할 데이터 수\n",
    "#     st_trloader = \"attnet_trloader.dl\"\n",
    "#     st_valloader = \"attnet_valloader.dl\"\n",
    "#     att_epochs = 300\n",
    "#     att_model = \"cifar_attacknet_logit_ml_tau%.1f.pth\"%(tau)\n",
    "    att_model = \"cifar_attacknet_logit_ml_swd_tau%.1f.pth\"%(tau)"
   ]
  },
  {
   "cell_type": "code",
   "execution_count": 10,
   "metadata": {},
   "outputs": [
    {
     "data": {
      "text/plain": [
       "'cifar_attacknet_logit_ml_swd_tau0.6.pth'"
      ]
     },
     "execution_count": 10,
     "metadata": {},
     "output_type": "execute_result"
    }
   ],
   "source": [
    "args.att_model"
   ]
  },
  {
   "cell_type": "code",
   "execution_count": 11,
   "metadata": {},
   "outputs": [],
   "source": [
    "from cifar_models import Net, Net_logit, AttackNet\n",
    "from utils import CombNet, CombNet_logit,Net_softmax"
   ]
  },
  {
   "cell_type": "code",
   "execution_count": 12,
   "metadata": {
    "scrolled": true
   },
   "outputs": [],
   "source": [
    "import os\n",
    "net = AttackNet()\n",
    "net.load_state_dict(torch.load(os.path.join(args.save_dir,args.orig_model),map_location='cpu'))\n",
    "net = Net_softmax(net)\n",
    "\n",
    "net_fake = AttackNet()\n",
    "net_fake.load_state_dict(torch.load(os.path.join(args.save_dir,args.fake_model),map_location='cpu'))\n",
    "net_fake = Net_softmax(net_fake)\n",
    "\n",
    "comb_net = CombNet(net, net_fake, args.tau)"
   ]
  },
  {
   "cell_type": "code",
   "execution_count": 13,
   "metadata": {},
   "outputs": [
    {
     "name": "stdout",
     "output_type": "stream",
     "text": [
      "total data: 20000\n"
     ]
    }
   ],
   "source": [
    "st_trloader, st_valloader = train_valid_split(stealloader,args.nb_stolen*2)\n",
    "# torch.save(st_trloader, os.path.join(args.save_dir,args.st_trloader))\n",
    "# torch.save(st_valloader, os.path.join(args.save_dir,args.st_valloader))"
   ]
  },
  {
   "cell_type": "code",
   "execution_count": 15,
   "metadata": {},
   "outputs": [],
   "source": [
    "from utils import prepare_MIAattack_loader"
   ]
  },
  {
   "cell_type": "code",
   "execution_count": null,
   "metadata": {},
   "outputs": [],
   "source": []
  },
  {
   "cell_type": "code",
   "execution_count": 16,
   "metadata": {
    "scrolled": true
   },
   "outputs": [
    {
     "ename": "RuntimeError",
     "evalue": "Class values must be smaller than num_classes.",
     "output_type": "error",
     "traceback": [
      "\u001b[0;31m---------------------------------------------------------------------------\u001b[0m",
      "\u001b[0;31mRuntimeError\u001b[0m                              Traceback (most recent call last)",
      "\u001b[0;32m<ipython-input-16-669f7a29a9b5>\u001b[0m in \u001b[0;36m<module>\u001b[0;34m\u001b[0m\n\u001b[0;32m----> 1\u001b[0;31m \u001b[0mmia_trloader\u001b[0m \u001b[0;34m=\u001b[0m \u001b[0mprepare_MIAattack_loader\u001b[0m\u001b[0;34m(\u001b[0m\u001b[0mcomb_net\u001b[0m\u001b[0;34m,\u001b[0m \u001b[0mtrainloader\u001b[0m\u001b[0;34m,\u001b[0m \u001b[0mst_trloader\u001b[0m\u001b[0;34m,\u001b[0m \u001b[0mdevice\u001b[0m\u001b[0;34m)\u001b[0m\u001b[0;34m\u001b[0m\u001b[0;34m\u001b[0m\u001b[0m\n\u001b[0m\u001b[1;32m      2\u001b[0m \u001b[0mmia_teloader\u001b[0m \u001b[0;34m=\u001b[0m \u001b[0mprepare_MIAattack_loader\u001b[0m\u001b[0;34m(\u001b[0m\u001b[0mcomb_net\u001b[0m\u001b[0;34m,\u001b[0m \u001b[0mtestloader\u001b[0m\u001b[0;34m,\u001b[0m \u001b[0mst_teloader\u001b[0m\u001b[0;34m,\u001b[0m \u001b[0mdevice\u001b[0m\u001b[0;34m)\u001b[0m\u001b[0;34m\u001b[0m\u001b[0;34m\u001b[0m\u001b[0m\n",
      "\u001b[0;32m~/HE/HEDL_inference/codes/utils/mia_utils.py\u001b[0m in \u001b[0;36mprepare_MIAattack_loader\u001b[0;34m(st_model, st_trainloader, st_validloader, device, batch_size, shuffle)\u001b[0m\n\u001b[1;32m     73\u001b[0m             \u001b[0;32mdel\u001b[0m \u001b[0mx\u001b[0m\u001b[0;34m,\u001b[0m \u001b[0mpred\u001b[0m\u001b[0;34m,\u001b[0m\u001b[0my\u001b[0m\u001b[0;34m\u001b[0m\u001b[0;34m\u001b[0m\u001b[0m\n\u001b[1;32m     74\u001b[0m         \u001b[0;32mfor\u001b[0m \u001b[0mx\u001b[0m\u001b[0;34m,\u001b[0m \u001b[0my\u001b[0m \u001b[0;32min\u001b[0m \u001b[0mst_validloader\u001b[0m\u001b[0;34m:\u001b[0m\u001b[0;34m\u001b[0m\u001b[0;34m\u001b[0m\u001b[0m\n\u001b[0;32m---> 75\u001b[0;31m             \u001b[0mori_ohy\u001b[0m\u001b[0;34m.\u001b[0m\u001b[0mappend\u001b[0m\u001b[0;34m(\u001b[0m\u001b[0mF\u001b[0m\u001b[0;34m.\u001b[0m\u001b[0mone_hot\u001b[0m\u001b[0;34m(\u001b[0m\u001b[0my\u001b[0m\u001b[0;34m,\u001b[0m\u001b[0mnum_classes\u001b[0m\u001b[0;34m=\u001b[0m\u001b[0;36m10\u001b[0m\u001b[0;34m)\u001b[0m\u001b[0;34m)\u001b[0m\u001b[0;34m\u001b[0m\u001b[0;34m\u001b[0m\u001b[0m\n\u001b[0m\u001b[1;32m     76\u001b[0m             \u001b[0mpred\u001b[0m \u001b[0;34m=\u001b[0m \u001b[0mst_model\u001b[0m\u001b[0;34m(\u001b[0m\u001b[0mx\u001b[0m\u001b[0;34m.\u001b[0m\u001b[0mto\u001b[0m\u001b[0;34m(\u001b[0m\u001b[0mdevice\u001b[0m\u001b[0;34m)\u001b[0m\u001b[0;34m)\u001b[0m\u001b[0;34m.\u001b[0m\u001b[0mdetach\u001b[0m\u001b[0;34m(\u001b[0m\u001b[0;34m)\u001b[0m\u001b[0;34m.\u001b[0m\u001b[0mcpu\u001b[0m\u001b[0;34m(\u001b[0m\u001b[0;34m)\u001b[0m\u001b[0;34m\u001b[0m\u001b[0;34m\u001b[0m\u001b[0m\n\u001b[1;32m     77\u001b[0m             \u001b[0mori_pred\u001b[0m\u001b[0;34m.\u001b[0m\u001b[0mappend\u001b[0m\u001b[0;34m(\u001b[0m\u001b[0mpred\u001b[0m\u001b[0;34m)\u001b[0m\u001b[0;34m\u001b[0m\u001b[0;34m\u001b[0m\u001b[0m\n",
      "\u001b[0;31mRuntimeError\u001b[0m: Class values must be smaller than num_classes."
     ]
    }
   ],
   "source": [
    "mia_trloader = prepare_MIAattack_loader(comb_net, trainloader, st_trloader, device)\n",
    "mia_teloader = prepare_MIAattack_loader(comb_net, testloader, st_teloader, device)"
   ]
  },
  {
   "cell_type": "code",
   "execution_count": 271,
   "metadata": {},
   "outputs": [],
   "source": [
    "import copy\n",
    "tr_accs_swd = copy.copy(tr_accs)\n",
    "te_accs_swd = copy.copy(te_accs)"
   ]
  },
  {
   "cell_type": "code",
   "execution_count": 281,
   "metadata": {},
   "outputs": [
    {
     "data": {
      "image/png": "[encoded data removed]",
      "text/plain": [
       "<Figure size 432x288 with 1 Axes>"
      ]
     },
     "metadata": {
      "needs_background": "light"
     },
     "output_type": "display_data"
    }
   ],
   "source": [
    "import matplotlib.pyplot as plt\n",
    "plt.plot(te_accs_swd,label=\"test acc swd\")\n",
    "plt.plot(tr_accs_swd, label = \"train acc swd\")\n",
    "plt.plot(te_accs,label=\"test acc\")\n",
    "plt.plot(tr_accs, label = \"train acc\")\n",
    "plt.legend()\n",
    "plt.show()"
   ]
  },
  {
   "cell_type": "code",
   "execution_count": 241,
   "metadata": {},
   "outputs": [
    {
     "data": {
      "image/png": "[encoded data removed]",
      "text/plain": [
       "<Figure size 432x288 with 1 Axes>"
      ]
     },
     "metadata": {
      "needs_background": "light"
     },
     "output_type": "display_data"
    },
    {
     "data": {
      "image/png": "[encoded data removed]",
      "text/plain": [
       "<Figure size 432x288 with 1 Axes>"
      ]
     },
     "metadata": {
      "needs_background": "light"
     },
     "output_type": "display_data"
    },
    {
     "data": {
      "image/png": "[encoded data removed]",
      "text/plain": [
       "<Figure size 432x288 with 1 Axes>"
      ]
     },
     "metadata": {
      "needs_background": "light"
     },
     "output_type": "display_data"
    }
   ],
   "source": [
    "from utils import maxclass_hist, prediction_hist\n",
    "# comb_net = CombNet_logit(net, net_fake, tau=0.99)\n",
    "maxclass_hist(testloader, net_fake, device, plt_title=\"fake network for cifar10\",\n",
    "              clipping=True, clip_vals=[None,1000])\n",
    "# maxclass_hist(testloader, net, device, plt_title=\"logit network for cifar10\",\n",
    "#               clipping=True, clip_vals=[None,1000])\n",
    "maxclass_hist(testloader, net, device, plt_title=\"true network for cifar10\",\n",
    "              clipping=True, clip_vals=[None,1000])\n",
    "maxclass_hist(testloader, comb_net, device, plt_title=\"comb network for cifar10\",\n",
    "              clipping=True, clip_vals=[None,1000])"
   ]
  },
  {
   "cell_type": "code",
   "execution_count": 242,
   "metadata": {},
   "outputs": [
    {
     "data": {
      "image/png": "[encoded data removed]",
      "text/plain": [
       "<Figure size 432x288 with 1 Axes>"
      ]
     },
     "metadata": {
      "needs_background": "light"
     },
     "output_type": "display_data"
    }
   ],
   "source": [
    "prediction_hist(testloader, net_fake, device, plt_title=\"prediction of logit network for cifar10\")"
   ]
  },
  {
   "cell_type": "code",
   "execution_count": 14,
   "metadata": {},
   "outputs": [
    {
     "data": {
      "text/plain": [
       "<All keys matched successfully>"
      ]
     },
     "execution_count": 14,
     "metadata": {},
     "output_type": "execute_result"
    }
   ],
   "source": [
    "att_net = AttackNet()\n",
    "att_net.load_state_dict(torch.load(os.path.join(args.save_dir, args.att_model),map_location='cpu'))"
   ]
  },
  {
   "cell_type": "markdown",
   "metadata": {},
   "source": [
    "## test steal model"
   ]
  },
  {
   "cell_type": "code",
   "execution_count": 15,
   "metadata": {},
   "outputs": [],
   "source": [
    "from utils import test_corr_model, Net_softmax, test_model\n",
    "# att_net_prob = Net_softmax(att_net)\n",
    "att_net_prob = Net_softmax(att_net)"
   ]
  },
  {
   "cell_type": "code",
   "execution_count": 16,
   "metadata": {},
   "outputs": [
    {
     "name": "stdout",
     "output_type": "stream",
     "text": [
      "Accuracy/Loss 1: 81.90/1.6509\n",
      "Accuracy/Loss 2: 65.62/1.9149\n",
      "Correspondence:  tensor(65.7900)\n"
     ]
    }
   ],
   "source": [
    "\n",
    "criterion_att = nn.CrossEntropyLoss()\n",
    "loss1, loss2, acc1, acc2, corr = test_corr_model(comb_net, att_net_prob, testloader, criterion_att, device)"
   ]
  },
  {
   "cell_type": "code",
   "execution_count": 17,
   "metadata": {},
   "outputs": [
    {
     "data": {
      "text/plain": [
       "(tensor(1.6270), tensor(84.2900))"
      ]
     },
     "execution_count": 17,
     "metadata": {},
     "output_type": "execute_result"
    }
   ],
   "source": [
    "test_model(net, testloader, criterion_att, device,100.0)"
   ]
  },
  {
   "cell_type": "code",
   "execution_count": null,
   "metadata": {},
   "outputs": [],
   "source": [
    "st_teloader1, st_teloader2 = train_valid_split(st_testloader, total_data=10000, ratio=0.5) "
   ]
  },
  {
   "cell_type": "markdown",
   "metadata": {},
   "source": [
    "# Test MIA from att_net"
   ]
  },
  {
   "cell_type": "markdown",
   "metadata": {},
   "source": [
    "## mia dataloader"
   ]
  },
  {
   "cell_type": "code",
   "execution_count": 18,
   "metadata": {},
   "outputs": [],
   "source": [
    "from utils import train_valid_split"
   ]
  },
  {
   "cell_type": "code",
   "execution_count": 19,
   "metadata": {},
   "outputs": [
    {
     "name": "stdout",
     "output_type": "stream",
     "text": [
      "total data: 10000\n",
      "total data: 10000\n",
      "total data: 10000\n"
     ]
    }
   ],
   "source": [
    "ori_trloader1,ori_trloader2 = train_valid_split(trainloader, total_data=10000, ratio=0.5) \n",
    "ori_teloader1, ori_teloader2 = train_valid_split(testloader, total_data=10000, ratio=0.5) \n"
   ]
  },
  {
   "cell_type": "code",
   "execution_count": 21,
   "metadata": {},
   "outputs": [],
   "source": [
    "from utils import prepare_MIAattack_loader"
   ]
  },
  {
   "cell_type": "markdown",
   "metadata": {},
   "source": [
    "- prepare_MIAattack_loader 에서 인자는 차례대로 학습에 사용한 network, 학습에 사용한 데이터, 학습에 사용하지 않은 데이터 에 해당한다!"
   ]
  },
  {
   "cell_type": "code",
   "execution_count": 22,
   "metadata": {},
   "outputs": [
    {
     "name": "stdout",
     "output_type": "stream",
     "text": [
      "data shape: torch.Size([10000, 20])\n",
      "number of data for training and valid: 5000 5000\n",
      "data shape: torch.Size([10000, 20])\n",
      "number of data for training and valid: 5000 5000\n"
     ]
    }
   ],
   "source": [
    "# mia_trloader = prepare_MIAattack_loader(comb_net, ori_trloader1, ori_teloader1, device)\n",
    "# mia_teloader = prepare_MIAattack_loader(comb_net, ori_trloader2, ori_teloader2, device)\n",
    "mia_trloader = prepare_MIAattack_loader(att_net_prob, ori_trloader1, ori_teloader1, device)\n",
    "mia_teloader = prepare_MIAattack_loader(att_net_prob, ori_trloader2, ori_teloader2, device)"
   ]
  },
  {
   "cell_type": "markdown",
   "metadata": {},
   "source": [
    "## train mia attack model"
   ]
  },
  {
   "cell_type": "code",
   "execution_count": 23,
   "metadata": {},
   "outputs": [],
   "source": [
    "from mia.estimators import AttackModelBundle\n",
    "NUM_CLASSES=10"
   ]
  },
  {
   "cell_type": "code",
   "execution_count": 24,
   "metadata": {},
   "outputs": [],
   "source": [
    "import tensorflow as tf\n",
    "from tensorflow.keras import layers\n",
    "\n",
    "def attack_model_fn():\n",
    "    \"\"\"Attack model that takes target model predictions and predicts membership.\n",
    "    Following the original paper, this attack model is specific to the class of the input.\n",
    "    AttachModelBundle creates multiple instances of this model for each class.\n",
    "    \"\"\"\n",
    "    model = tf.keras.models.Sequential()\n",
    "\n",
    "    model.add(layers.Dense(128, activation=\"relu\", input_shape=(NUM_CLASSES,)))\n",
    "\n",
    "    model.add(layers.Dropout(0.3, noise_shape=None, seed=None))\n",
    "    model.add(layers.Dense(64, activation=\"relu\"))\n",
    "    model.add(layers.Dropout(0.2, noise_shape=None, seed=None))\n",
    "    model.add(layers.Dense(64, activation=\"relu\"))\n",
    "\n",
    "    model.add(layers.Dense(1, activation=\"sigmoid\"))\n",
    "    model.compile(\"adam\", loss=\"binary_crossentropy\", metrics=[\"accuracy\"])\n",
    "    return model"
   ]
  },
  {
   "cell_type": "code",
   "execution_count": 25,
   "metadata": {},
   "outputs": [],
   "source": [
    "def run_mia_attack(comb_net, train_loader, test_loader):\n",
    "    ori_trloader1,ori_trloader2 = train_valid_split(train_loader, total_data=10000, ratio=0.5) \n",
    "    ori_teloader1, ori_teloader2 = train_valid_split(test_loader, total_data=10000, ratio=0.5) \n",
    "    mia_trloader = prepare_MIAattack_loader(comb_net, ori_trloader1, ori_teloader1, device)\n",
    "\n",
    "    X_shadow,y_shadow = mia_trloader.dataset.tensors[0].numpy(),mia_trloader.dataset.tensors[1].numpy()\n",
    "    amb = AttackModelBundle(attack_model_fn, num_classes=NUM_CLASSES)\n",
    "    amb.fit(X_shadow, y_shadow)\n",
    "    tr_acc = np.mean(amb.predict(X_shadow)==y_shadow)\n",
    "    print(\"training accuracy\",tr_acc)\n",
    "    \n",
    "    mia_teloader = prepare_MIAattack_loader(comb_net, ori_trloader2, ori_teloader2, device)\n",
    "    X_shadow_te,y_shadow_te = mia_teloader.dataset.tensors[0].numpy(),mia_teloader.dataset.tensors[1].numpy()\n",
    "    te_acc = np.mean(amb.predict(X_shadow_te)==y_shadow_te)\n",
    "    print(\"test accuracy:\",te_acc)\n",
    "    return amb, tr_acc, te_acc"
   ]
  },
  {
   "cell_type": "code",
   "execution_count": 26,
   "metadata": {},
   "outputs": [],
   "source": [
    "X_shadow,y_shadow = mia_trloader.dataset.tensors[0].numpy(),mia_trloader.dataset.tensors[1].numpy()\n",
    "X_shadow_te,y_shadow_te = mia_teloader.dataset.tensors[0].numpy(),mia_teloader.dataset.tensors[1].numpy()"
   ]
  },
  {
   "cell_type": "code",
   "execution_count": 27,
   "metadata": {},
   "outputs": [
    {
     "name": "stdout",
     "output_type": "stream",
     "text": [
      "(10000, 20) (10000,)\n",
      "[0.00837009 0.07466025 0.00584845 0.4925688  0.02230073 0.11616462\n",
      " 0.12224147 0.0121015  0.00153571 0.14420842 0.         0.\n",
      " 0.         0.         0.         0.         1.         0.\n",
      " 0.         0.        ]\n"
     ]
    }
   ],
   "source": [
    "print(X_shadow.shape, y_shadow.shape)\n",
    "print(X_shadow[0])"
   ]
  },
  {
   "cell_type": "code",
   "execution_count": 28,
   "metadata": {},
   "outputs": [],
   "source": [
    "amb = AttackModelBundle(attack_model_fn, num_classes=NUM_CLASSES)"
   ]
  },
  {
   "cell_type": "code",
   "execution_count": 29,
   "metadata": {},
   "outputs": [
    {
     "name": "stdout",
     "output_type": "stream",
     "text": [
      "33/33 [==============================] - 1s 5ms/step - loss: 0.6935 - accuracy: 0.4951\n",
      "32/32 [==============================] - 0s 5ms/step - loss: 0.6939 - accuracy: 0.5146\n",
      "32/32 [==============================] - 0s 5ms/step - loss: 0.6953 - accuracy: 0.4866\n",
      "33/33 [==============================] - 0s 5ms/step - loss: 0.6934 - accuracy: 0.5106\n",
      "31/31 [==============================] - 0s 5ms/step - loss: 0.6937 - accuracy: 0.5098\n",
      "30/30 [==============================] - 0s 5ms/step - loss: 0.6924 - accuracy: 0.5161\n",
      "32/32 [==============================] - 0s 5ms/step - loss: 0.6950 - accuracy: 0.4951\n",
      "32/32 [==============================] - 0s 5ms/step - loss: 0.6927 - accuracy: 0.5220\n",
      "33/33 [==============================] - 0s 5ms/step - loss: 0.6939 - accuracy: 0.4752\n",
      "31/31 [==============================] - 1s 5ms/step - loss: 0.6934 - accuracy: 0.5010\n"
     ]
    }
   ],
   "source": [
    "amb.fit(X_shadow, y_shadow)"
   ]
  },
  {
   "cell_type": "code",
   "execution_count": 30,
   "metadata": {},
   "outputs": [
    {
     "data": {
      "text/plain": [
       "0.4933"
      ]
     },
     "execution_count": 30,
     "metadata": {},
     "output_type": "execute_result"
    }
   ],
   "source": [
    "import numpy as np\n",
    "np.mean(amb.predict(X_shadow_te)==y_shadow_te)"
   ]
  },
  {
   "cell_type": "code",
   "execution_count": null,
   "metadata": {},
   "outputs": [],
   "source": []
  },
  {
   "cell_type": "code",
   "execution_count": null,
   "metadata": {},
   "outputs": [],
   "source": []
  },
  {
   "cell_type": "code",
   "execution_count": null,
   "metadata": {},
   "outputs": [],
   "source": []
  },
  {
   "cell_type": "code",
   "execution_count": 21,
   "metadata": {},
   "outputs": [],
   "source": [
    "from cifar_models import Net_MIA"
   ]
  },
  {
   "cell_type": "code",
   "execution_count": 22,
   "metadata": {},
   "outputs": [],
   "source": [
    "from utils import test_model, AverageVarMeter, train_mia_model"
   ]
  },
  {
   "cell_type": "code",
   "execution_count": 28,
   "metadata": {},
   "outputs": [
    {
     "data": {
      "text/plain": [
       "(tensor([[6.2552e-03, 5.2083e-01, 7.8346e-03,  ..., 0.0000e+00, 1.0000e+00,\n",
       "          0.0000e+00],\n",
       "         [2.1291e-02, 8.1158e-02, 1.6784e-02,  ..., 1.0000e+00, 0.0000e+00,\n",
       "          0.0000e+00],\n",
       "         [9.3101e-02, 6.7192e-04, 4.2825e-01,  ..., 0.0000e+00, 0.0000e+00,\n",
       "          0.0000e+00],\n",
       "         ...,\n",
       "         [9.2651e-03, 1.2185e-01, 6.0885e-02,  ..., 0.0000e+00, 0.0000e+00,\n",
       "          0.0000e+00],\n",
       "         [1.0157e-02, 3.9354e-01, 1.4410e-02,  ..., 0.0000e+00, 0.0000e+00,\n",
       "          0.0000e+00],\n",
       "         [9.2844e-01, 1.3178e-02, 4.1829e-02,  ..., 0.0000e+00, 1.0000e+00,\n",
       "          0.0000e+00]]),\n",
       " tensor([1., 1., 1.,  ..., 0., 0., 0.]))"
      ]
     },
     "execution_count": 28,
     "metadata": {},
     "output_type": "execute_result"
    }
   ],
   "source": [
    "mia_trloader.dataset.tensors"
   ]
  },
  {
   "cell_type": "code",
   "execution_count": null,
   "metadata": {},
   "outputs": [],
   "source": []
  },
  {
   "cell_type": "code",
   "execution_count": null,
   "metadata": {},
   "outputs": [],
   "source": []
  },
  {
   "cell_type": "code",
   "execution_count": null,
   "metadata": {},
   "outputs": [],
   "source": []
  },
  {
   "cell_type": "code",
   "execution_count": null,
   "metadata": {},
   "outputs": [],
   "source": []
  },
  {
   "cell_type": "code",
   "execution_count": null,
   "metadata": {},
   "outputs": [],
   "source": []
  },
  {
   "cell_type": "code",
   "execution_count": 23,
   "metadata": {},
   "outputs": [],
   "source": [
    "mia_att_net = Net_MIA()"
   ]
  },
  {
   "cell_type": "code",
   "execution_count": 26,
   "metadata": {},
   "outputs": [],
   "source": [
    "mia_criterion = nn.BCELoss()\n",
    "mia_optimizer = optim.Adam(mia_att_net.parameters())\n",
    "mia_epochs = 100"
   ]
  },
  {
   "cell_type": "code",
   "execution_count": 27,
   "metadata": {},
   "outputs": [
    {
     "data": {
      "image/png": "[encoded data removed]",
      "text/plain": [
       "<Figure size 864x576 with 2 Axes>"
      ]
     },
     "metadata": {
      "needs_background": "light"
     },
     "output_type": "display_data"
    },
    {
     "name": "stdout",
     "output_type": "stream",
     "text": [
      "Accuracy\n",
      "\ttraining         \t (min:    0.526, max:    0.576, cur:    0.571)\n",
      "\tvalidation       \t (min:    0.491, max:    0.507, cur:    0.499)\n",
      "Loss\n",
      "\ttraining         \t (min:    0.666, max:    0.690, cur:    0.667)\n",
      "\tvalidation       \t (min:    0.695, max:    0.721, cur:    0.713)\n"
     ]
    },
    {
     "data": {
      "text/plain": [
       "(Net_MIA(\n",
       "   (lin1): Linear(in_features=20, out_features=128, bias=True)\n",
       "   (lin2): Linear(in_features=128, out_features=64, bias=True)\n",
       "   (lin3): Linear(in_features=64, out_features=64, bias=True)\n",
       "   (lin4): Linear(in_features=64, out_features=1, bias=True)\n",
       " ),\n",
       " {'loss': 0.6671925783157349,\n",
       "  'acc': 0.5714,\n",
       "  'val_loss': 0.7125716209411621,\n",
       "  'val_acc': 0.4994})"
      ]
     },
     "execution_count": 27,
     "metadata": {},
     "output_type": "execute_result"
    }
   ],
   "source": [
    "train_mia_model(mia_att_net, att_net, mia_trloader, mia_criterion, mia_optimizer, \n",
    "                 mia_epochs, device, mia_testloader = mia_teloader, \n",
    "                save_dir = \"../results\", save_model = \"cifar_mia_model.pth\")"
   ]
  },
  {
   "cell_type": "markdown",
   "metadata": {},
   "source": [
    "## Test MIA attacks"
   ]
  },
  {
   "cell_type": "code",
   "execution_count": 25,
   "metadata": {},
   "outputs": [],
   "source": [
    "from utils import test_binary_model"
   ]
  },
  {
   "cell_type": "code",
   "execution_count": 26,
   "metadata": {},
   "outputs": [
    {
     "name": "stdout",
     "output_type": "stream",
     "text": [
      "total data: 20000\n",
      "data shape: torch.Size([20000, 3082])\n",
      "number of data for training and valid: 10000 10000\n",
      "(0.790289580821991, 0.505)\n"
     ]
    }
   ],
   "source": [
    "ori_trloader,ori_trloader2 = train_valid_split(trainloader)\n",
    "mia_testloader = prepare_MIAattack_loader(att_net_prob, ori_trloader, testloader,device)\n",
    "print(test_binary_model(mia_att_net, mia_testloader, mia_criterion, device, 100.0))"
   ]
  },
  {
   "cell_type": "code",
   "execution_count": 27,
   "metadata": {},
   "outputs": [
    {
     "name": "stdout",
     "output_type": "stream",
     "text": [
      "data shape: torch.Size([20000, 3082])\n",
      "number of data for training and valid: 10000 10000\n"
     ]
    },
    {
     "data": {
      "text/plain": [
       "(0.7866438031196594, 0.50595)"
      ]
     },
     "execution_count": 27,
     "metadata": {},
     "output_type": "execute_result"
    }
   ],
   "source": [
    "mia_testloader2 = prepare_MIAattack_loader(comb_net, ori_trloader, testloader,device)\n",
    "test_binary_model(mia_att_net, mia_testloader2, mia_criterion, device, 100.0)"
   ]
  }
 ],
 "metadata": {
  "kernelspec": {
   "display_name": "torch19",
   "language": "python",
   "name": "torch19"
  },
  "language_info": {
   "codemirror_mode": {
    "name": "ipython",
    "version": 3
   },
   "file_extension": ".py",
   "mimetype": "text/x-python",
   "name": "python",
   "nbconvert_exporter": "python",
   "pygments_lexer": "ipython3",
   "version": "3.9.5"
  }
 },
 "nbformat": 4,
 "nbformat_minor": 4
}
