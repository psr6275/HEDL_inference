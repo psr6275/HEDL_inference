{
 "cells": [
  {
   "cell_type": "code",
   "execution_count": 1,
   "id": "4eb412b5",
   "metadata": {},
   "outputs": [],
   "source": [
    "import torch\n",
    "import torch.nn as nn\n",
    "import torch.optim as optim"
   ]
  },
  {
   "cell_type": "code",
   "execution_count": 2,
   "id": "d4b4e98f",
   "metadata": {},
   "outputs": [],
   "source": [
    "device = 'cuda:0' if torch.cuda.is_available() else 'cpu'"
   ]
  },
  {
   "cell_type": "code",
   "execution_count": 3,
   "id": "09f21f43",
   "metadata": {},
   "outputs": [],
   "source": [
    "torch.cuda.set_device(device)"
   ]
  },
  {
   "cell_type": "code",
   "execution_count": 4,
   "id": "59bd9c5b",
   "metadata": {},
   "outputs": [],
   "source": [
    "from utils import load_cifar10, load_cifar100, load_tinyimagenet"
   ]
  },
  {
   "cell_type": "code",
   "execution_count": 5,
   "id": "abb49b47",
   "metadata": {},
   "outputs": [
    {
     "name": "stdout",
     "output_type": "stream",
     "text": [
      "Files already downloaded and verified\n",
      "Files already downloaded and verified\n"
     ]
    }
   ],
   "source": [
    "# load cifar10 data\n",
    "trainloader, testloader = load_cifar10(data_dir=\"../data/cifar10\", batch_size=128, \n",
    "                                       test_batch = 128,train_shuffle=True)\n",
    "classes = ('plane', 'car', 'bird', 'cat', 'deer',\n",
    "           'dog', 'frog', 'horse', 'ship', 'truck')"
   ]
  },
  {
   "cell_type": "code",
   "execution_count": 6,
   "id": "b764e5d5",
   "metadata": {},
   "outputs": [],
   "source": [
    "from utils import train_valid_split"
   ]
  },
  {
   "cell_type": "code",
   "execution_count": 7,
   "id": "145fc7eb",
   "metadata": {},
   "outputs": [
    {
     "name": "stdout",
     "output_type": "stream",
     "text": [
      "Files already downloaded and verified\n",
      "Files already downloaded and verified\n"
     ]
    }
   ],
   "source": [
    "# load dataloader for steal\n",
    "stealloader,st_testloader = load_cifar100(data_dir=\"../data/cifar100\", batch_size=128, train_shuffle=False)"
   ]
  },
  {
   "cell_type": "code",
   "execution_count": 17,
   "id": "b4e276a7",
   "metadata": {},
   "outputs": [
    {
     "name": "stdout",
     "output_type": "stream",
     "text": [
      "total data: 10000\n"
     ]
    }
   ],
   "source": [
    "st_trloader, st_valloader = train_valid_split(stealloader,10000)"
   ]
  },
  {
   "cell_type": "code",
   "execution_count": 8,
   "id": "7569079b",
   "metadata": {},
   "outputs": [],
   "source": [
    "# load tinyimagenet for outlier exposure\n",
    "outlier_loader = load_tinyimagenet(data_dir=\"../data/tiny-imagenet-200\",\n",
    "                                   batch_size=128, train_shuffle=True)"
   ]
  },
  {
   "cell_type": "code",
   "execution_count": 112,
   "id": "b80e9ed3",
   "metadata": {},
   "outputs": [],
   "source": [
    "class args:\n",
    "    save_dir = \"../results\"\n",
    "    orig_model = \"cifar_orig_logit.pth\"\n",
    "#     fake_model = \"cifar_fake_random_net.pth\"\n",
    "    fake_model = \"cifar_fake_logit_ML.pth\"\n",
    "    tau = 0.8\n",
    "#     nb_stolen = 10000 # attack model 학습시 사용할 데이터 수\n",
    "#     st_trloader = \"attnet_trloader.dl\"\n",
    "#     st_valloader = \"attnet_valloader.dl\"\n",
    "#     att_epochs = 300\n",
    "    att_model = \"cifar_attacknet_logit_ml_tau%.1f.pth\"%(tau)"
   ]
  },
  {
   "cell_type": "code",
   "execution_count": 113,
   "id": "a0aa9d0a",
   "metadata": {},
   "outputs": [
    {
     "data": {
      "text/plain": [
       "'cifar_attacknet_logit_ml_tau0.8.pth'"
      ]
     },
     "execution_count": 113,
     "metadata": {},
     "output_type": "execute_result"
    }
   ],
   "source": [
    "args.att_model"
   ]
  },
  {
   "cell_type": "code",
   "execution_count": 114,
   "id": "2c2194b5",
   "metadata": {},
   "outputs": [],
   "source": [
    "from cifar_models import Net, Net_logit, AttackNet\n",
    "from utils import CombNet, CombNet_logit, Net_softmax"
   ]
  },
  {
   "cell_type": "code",
   "execution_count": 115,
   "id": "7d7ad795",
   "metadata": {},
   "outputs": [],
   "source": [
    "import os\n",
    "net = AttackNet()\n",
    "net.load_state_dict(torch.load(os.path.join(args.save_dir,args.orig_model),map_location='cpu'))\n",
    "net = Net_softmax(net)\n",
    "\n",
    "net_fake = AttackNet()\n",
    "net_fake.load_state_dict(torch.load(os.path.join(args.save_dir,args.fake_model),map_location='cpu'))\n",
    "net_fake = Net_softmax(net_fake)\n",
    "\n",
    "comb_net = CombNet(net, net_fake, args.tau)"
   ]
  },
  {
   "cell_type": "code",
   "execution_count": 116,
   "id": "c58dd21b",
   "metadata": {},
   "outputs": [
    {
     "data": {
      "text/plain": [
       "Net_softmax(\n",
       "  (model): AttackNet(\n",
       "    (pool): MaxPool2d(kernel_size=2, stride=2, padding=0, dilation=1, ceil_mode=False)\n",
       "    (conv1): Conv2d(3, 32, kernel_size=(3, 3), stride=(1, 1), padding=(1, 1))\n",
       "    (conv2): Conv2d(32, 64, kernel_size=(3, 3), stride=(1, 1), padding=(1, 1))\n",
       "    (conv3): Conv2d(64, 128, kernel_size=(3, 3), stride=(1, 1), padding=(1, 1))\n",
       "    (classifier): Sequential(\n",
       "      (0): Linear(in_features=2048, out_features=256, bias=True)\n",
       "      (1): Linear(in_features=256, out_features=10, bias=True)\n",
       "    )\n",
       "  )\n",
       ")"
      ]
     },
     "execution_count": 116,
     "metadata": {},
     "output_type": "execute_result"
    }
   ],
   "source": [
    "comb_net.net_orig"
   ]
  },
  {
   "cell_type": "code",
   "execution_count": 117,
   "id": "74a283cc",
   "metadata": {},
   "outputs": [],
   "source": [
    "from torch.utils.data import TensorDataset, DataLoader\n",
    "def make_adaptive_loader(model_prob, victim_net, dataloader, tau, device, batch_size=128, shuffle=True):\n",
    "\n",
    "    model_prob.to(device).eval()\n",
    "    victim_net.to(device).eval()\n",
    "    labels = []\n",
    "    ori_out = []\n",
    "    with torch.no_grad():\n",
    "        for x,y in dataloader:\n",
    "            with torch.no_grad():\n",
    "                out = victim_net(x.to(device)).detach().cpu()\n",
    "                ori_out.append(out)\n",
    "            pred = torch.max(model_prob(x.to(device)).detach().cpu(),axis=1)\n",
    "#             print(pred)\n",
    "            labels.append(torch.tensor(pred[0]>tau).float())\n",
    "            del x,y,pred, out\n",
    "    data = torch.cat(ori_out,dim=0)\n",
    "    labels = torch.cat(labels,dim=0)\n",
    "    dataloader_ = DataLoader(TensorDataset(data, labels),batch_size=batch_size, shuffle=shuffle)\n",
    "    model_prob.cpu()\n",
    "    victim_net.cpu()\n",
    "    return dataloader_\n",
    "            \n",
    "    "
   ]
  },
  {
   "cell_type": "code",
   "execution_count": 125,
   "id": "31488821",
   "metadata": {
    "scrolled": true
   },
   "outputs": [
    {
     "name": "stderr",
     "output_type": "stream",
     "text": [
      "<ipython-input-117-377d5d037d5f>:15: UserWarning: To copy construct from a tensor, it is recommended to use sourceTensor.clone().detach() or sourceTensor.clone().detach().requires_grad_(True), rather than torch.tensor(sourceTensor).\n",
      "  labels.append(torch.tensor(pred[0]>tau).float())\n"
     ]
    }
   ],
   "source": [
    "# attack with true tau for combnet\n",
    "adpt_trloader = make_adaptive_loader(net, comb_net, st_trloader,comb_net.tau,device, batch_size=128, shuffle=True)\n",
    "adpt_teloader = make_adaptive_loader(net, comb_net, st_valloader,comb_net.tau,device, batch_size=128, shuffle=False)\n",
    "adpt_teloader2 = make_adaptive_loader(net, comb_net, testloader,comb_net.tau,device, batch_size=128, shuffle=False)"
   ]
  },
  {
   "cell_type": "code",
   "execution_count": 119,
   "id": "b2ced805",
   "metadata": {},
   "outputs": [],
   "source": [
    "from livelossplot import PlotLosses\n",
    "import torch.nn.functional as F\n",
    "from utils import test_binary_model\n",
    "def train_adapt_model(adpt_att_model, adpt_loader, criterion, optimizer, epochs, device, adpt_testloader = None, save_dir = \"../results\", save_model = \"cifar_adapt_model.pth\"):\n",
    "    adpt_att_model.to(device)\n",
    "    \n",
    "    logs_clf = {}\n",
    "    best_acc = 0.0\n",
    "    liveloss_tr = PlotLosses()\n",
    "    \n",
    "    for epoch in range(epochs):\n",
    "        adpt_att_model.train()\n",
    "        \n",
    "        for x,y in adpt_loader:\n",
    "\n",
    "            adpt_att_model.zero_grad()\n",
    "\n",
    "            out = adpt_att_model(x.to(device))\n",
    "            loss = criterion(out.flatten().float(), y.to(device).float())\n",
    "            \n",
    "            loss.backward()\n",
    "            optimizer.step()\n",
    "            \n",
    "            del x,out,  y, loss\n",
    "            torch.cuda.empty_cache()\n",
    "        logs_clf['loss'], logs_clf['acc']= test_binary_model(adpt_att_model, adpt_loader, criterion, device, 100.0, save_dir, save_model)\n",
    "        if adpt_testloader is not None:\n",
    "            logs_clf['val_loss'], logs_clf['val_acc']= test_binary_model(adpt_att_model, adpt_testloader, criterion, device, 0.0, save_dir, save_model)\n",
    "        liveloss_tr.update(logs_clf)\n",
    "        liveloss_tr.send()\n",
    "    adpt_att_model.cpu()\n",
    "    return adpt_att_model, logs_clf"
   ]
  },
  {
   "cell_type": "code",
   "execution_count": 104,
   "id": "e00b8527",
   "metadata": {},
   "outputs": [],
   "source": [
    "NUM_CLASSES = 10\n",
    "class Net_Adapt(nn.Module):\n",
    "    def __init__(self, num_classes=NUM_CLASSES):\n",
    "        super(Net_Adapt, self).__init__()\n",
    "        self.num_input = num_classes\n",
    "        self.lin1 = nn.Linear(self.num_input, 128)\n",
    "        self.lin2 = nn.Linear(128,64)\n",
    "        self.lin3 = nn.Linear(64,64)\n",
    "        self.lin4 = nn.Linear(64,1)\n",
    "    def forward(self,x):\n",
    "        x = x.view(-1,self.num_input)\n",
    "        x = F.relu(self.lin1(x))\n",
    "        x = nn.Dropout(0.3)(x)\n",
    "        x = F.relu(self.lin2(x))\n",
    "        x = nn.Dropout(0.2)(x)\n",
    "        x = F.relu(self.lin3(x))\n",
    "        x = torch.sigmoid(self.lin4(x)).flatten()\n",
    "        return x"
   ]
  },
  {
   "cell_type": "code",
   "execution_count": 135,
   "id": "99f4f7fb",
   "metadata": {},
   "outputs": [],
   "source": [
    "adpt_att_net = Net_Adapt()\n",
    "adpt_criterion = nn.BCELoss()\n",
    "adpt_optimizer = optim.Adam(adpt_att_net.parameters())\n",
    "adpt_epochs = 300"
   ]
  },
  {
   "cell_type": "code",
   "execution_count": 136,
   "id": "df7d9145",
   "metadata": {
    "scrolled": false
   },
   "outputs": [
    {
     "data": {
      "image/png": "[encoded data removed]",
      "text/plain": [
       "<Figure size 864x576 with 2 Axes>"
      ]
     },
     "metadata": {
      "needs_background": "light"
     },
     "output_type": "display_data"
    },
    {
     "name": "stdout",
     "output_type": "stream",
     "text": [
      "Accuracy\n",
      "\ttraining         \t (min:    0.720, max:    0.889, cur:    0.887)\n",
      "\tvalidation       \t (min:    0.705, max:    0.874, cur:    0.870)\n",
      "Loss\n",
      "\ttraining         \t (min:    0.248, max:    0.551, cur:    0.248)\n",
      "\tvalidation       \t (min:    0.288, max:    0.557, cur:    0.290)\n"
     ]
    }
   ],
   "source": [
    "adpt_att_net,_ = train_adapt_model(adpt_att_net, adpt_trloader, adpt_criterion, adpt_optimizer, adpt_epochs, device, adpt_teloader)"
   ]
  },
  {
   "cell_type": "code",
   "execution_count": 129,
   "id": "95744e25",
   "metadata": {},
   "outputs": [],
   "source": [
    "Xtr = adpt_trloader.dataset.tensors[0]\n",
    "ytr = adpt_trloader.dataset.tensors[1]\n",
    "Xte =adpt_teloader.dataset.tensors[0]\n",
    "yte = adpt_teloader.dataset.tensors[1]\n",
    "Xte2 =adpt_teloader2.dataset.tensors[0]\n",
    "yte2 = adpt_teloader2.dataset.tensors[1]\n"
   ]
  },
  {
   "cell_type": "code",
   "execution_count": 139,
   "id": "2207f459",
   "metadata": {},
   "outputs": [
    {
     "data": {
      "text/plain": [
       "(0.31239426136016846, 0.8738)"
      ]
     },
     "execution_count": 139,
     "metadata": {},
     "output_type": "execute_result"
    }
   ],
   "source": [
    "test_binary_model(adpt_att_net, adpt_teloader, adpt_criterion, device, 0.0)"
   ]
  },
  {
   "cell_type": "code",
   "execution_count": 162,
   "id": "24ddfef4",
   "metadata": {},
   "outputs": [],
   "source": [
    "def get_prediction(model, testloader, device):\n",
    "    model.to(device).eval()\n",
    "    preds = []\n",
    "    with torch.no_grad():\n",
    "        for data in testloader:\n",
    "            preds.append(model(data[0].to(device)).detach().cpu())\n",
    "        preds = torch.cat(preds,dim=0)\n",
    "    return preds"
   ]
  },
  {
   "cell_type": "code",
   "execution_count": 163,
   "id": "3535fc07",
   "metadata": {},
   "outputs": [
    {
     "name": "stdout",
     "output_type": "stream",
     "text": [
      "0.8513161014939531\n",
      "0.8915787653467059\n"
     ]
    }
   ],
   "source": [
    "from sklearn.metrics import f1_score\n",
    "preds = get_prediction(adpt_att_net, adpt_teloader,device)\n",
    "preds_h = (preds>0.5).type(torch.FloatTensor).numpy()\n",
    "print(f1_score(yte.numpy(), preds_h,pos_label=0))\n",
    "print(f1_score(yte.numpy(), preds_h,pos_label=1))\n",
    "# print(f1_score(yte.numpy(), preds_h,average='weighted'))"
   ]
  },
  {
   "cell_type": "code",
   "execution_count": null,
   "id": "3aae5e75",
   "metadata": {},
   "outputs": [],
   "source": []
  },
  {
   "cell_type": "code",
   "execution_count": null,
   "id": "27de4042",
   "metadata": {},
   "outputs": [],
   "source": [
    "adpt_att_net"
   ]
  },
  {
   "cell_type": "code",
   "execution_count": 137,
   "id": "235a2c5d",
   "metadata": {},
   "outputs": [
    {
     "data": {
      "image/png": "[encoded data removed]",
      "text/plain": [
       "<Figure size 432x288 with 1 Axes>"
      ]
     },
     "metadata": {
      "needs_background": "light"
     },
     "output_type": "display_data"
    }
   ],
   "source": [
    "import matplotlib.pyplot as plt\n",
    "plt.figure()\n",
    "plt.hist(adpt_trloader.dataset.tensors[1].numpy())\n",
    "plt.title(str(sum(adpt_trloader.dataset.tensors[1].numpy()==1)/len(adpt_trloader.dataset.tensors[1])))\n",
    "plt.show()"
   ]
  },
  {
   "cell_type": "code",
   "execution_count": 92,
   "id": "225b1bb0",
   "metadata": {},
   "outputs": [
    {
     "data": {
      "text/plain": [
       "tensor([1., 1., 0.,  ..., 1., 0., 0.])"
      ]
     },
     "execution_count": 92,
     "metadata": {},
     "output_type": "execute_result"
    }
   ],
   "source": [
    "adpt_trloader.dataset.tensors[1]"
   ]
  },
  {
   "cell_type": "code",
   "execution_count": 138,
   "id": "881b72b3",
   "metadata": {},
   "outputs": [
    {
     "data": {
      "text/plain": [
       "(0.34137213230133057, 0.8403)"
      ]
     },
     "execution_count": 138,
     "metadata": {},
     "output_type": "execute_result"
    }
   ],
   "source": [
    "test_binary_model(adpt_att_net, adpt_teloader2, adpt_criterion, device, 0.0)"
   ]
  },
  {
   "cell_type": "code",
   "execution_count": 164,
   "id": "d5cbd7f5",
   "metadata": {},
   "outputs": [
    {
     "name": "stdout",
     "output_type": "stream",
     "text": [
      "0.6053921568627451\n",
      "0.8988693467336684\n"
     ]
    }
   ],
   "source": [
    "from sklearn.metrics import f1_score\n",
    "preds2 = get_prediction(adpt_att_net, adpt_teloader2,device)\n",
    "preds_h2 = (preds2>0.5).type(torch.FloatTensor).numpy()\n",
    "print(f1_score(yte2.numpy(), preds_h2,pos_label=0))\n",
    "print(f1_score(yte2.numpy(), preds_h2,pos_label=1))\n",
    "# print(f1_score(yte.numpy(), preds_h,average='weighted'))"
   ]
  },
  {
   "cell_type": "code",
   "execution_count": 140,
   "id": "288309ec",
   "metadata": {},
   "outputs": [
    {
     "data": {
      "image/png": "[encoded data removed]",
      "text/plain": [
       "<Figure size 432x288 with 1 Axes>"
      ]
     },
     "metadata": {
      "needs_background": "light"
     },
     "output_type": "display_data"
    }
   ],
   "source": [
    "import matplotlib.pyplot as plt\n",
    "ys = adpt_teloader2.dataset.tensors[1].numpy()\n",
    "plt.figure()\n",
    "plt.hist(ys)\n",
    "plt.title(str(sum(ys==1)/len(ys)))\n",
    "plt.show()"
   ]
  },
  {
   "cell_type": "code",
   "execution_count": null,
   "id": "d848dc12",
   "metadata": {},
   "outputs": [],
   "source": []
  }
 ],
 "metadata": {
  "kernelspec": {
   "display_name": "torch19",
   "language": "python",
   "name": "torch19"
  },
  "language_info": {
   "codemirror_mode": {
    "name": "ipython",
    "version": 3
   },
   "file_extension": ".py",
   "mimetype": "text/x-python",
   "name": "python",
   "nbconvert_exporter": "python",
   "pygments_lexer": "ipython3",
   "version": "3.9.5"
  }
 },
 "nbformat": 4,
 "nbformat_minor": 5
}
