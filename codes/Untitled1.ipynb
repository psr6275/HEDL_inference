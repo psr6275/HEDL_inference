{
 "cells": [
  {
   "cell_type": "code",
   "execution_count": 1,
   "id": "a1e41f7a",
   "metadata": {},
   "outputs": [],
   "source": [
    "from utils import load_mnist"
   ]
  },
  {
   "cell_type": "code",
   "execution_count": 2,
   "id": "99852664",
   "metadata": {},
   "outputs": [],
   "source": [
    "from mnist_models import AttackNetMNIST, small_AttackNetMNIST"
   ]
  },
  {
   "cell_type": "code",
   "execution_count": 3,
   "id": "d82320db",
   "metadata": {},
   "outputs": [],
   "source": [
    "import torch"
   ]
  },
  {
   "cell_type": "code",
   "execution_count": 4,
   "id": "d512d298",
   "metadata": {},
   "outputs": [],
   "source": [
    "net = AttackNetMNIST()"
   ]
  },
  {
   "cell_type": "code",
   "execution_count": null,
   "id": "92b99915",
   "metadata": {},
   "outputs": [],
   "source": [
    "net.load_state_dict(torch.load(\"../results\"))"
   ]
  }
 ],
 "metadata": {
  "kernelspec": {
   "display_name": "CrypTen",
   "language": "python",
   "name": "crypten"
  },
  "language_info": {
   "codemirror_mode": {
    "name": "ipython",
    "version": 3
   },
   "file_extension": ".py",
   "mimetype": "text/x-python",
   "name": "python",
   "nbconvert_exporter": "python",
   "pygments_lexer": "ipython3",
   "version": "3.8.6"
  }
 },
 "nbformat": 4,
 "nbformat_minor": 5
}
