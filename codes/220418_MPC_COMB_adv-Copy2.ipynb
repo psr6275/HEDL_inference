{
 "cells": [
  {
   "cell_type": "code",
   "execution_count": 1,
   "metadata": {
    "scrolled": true
   },
   "outputs": [
    {
     "name": "stdout",
     "output_type": "stream",
     "text": [
      "Fri Apr 22 18:28:47 2022       \n",
      "+-----------------------------------------------------------------------------+\n",
      "| NVIDIA-SMI 510.47.03    Driver Version: 510.47.03    CUDA Version: 11.6     |\n",
      "|-------------------------------+----------------------+----------------------+\n",
      "| GPU  Name        Persistence-M| Bus-Id        Disp.A | Volatile Uncorr. ECC |\n",
      "| Fan  Temp  Perf  Pwr:Usage/Cap|         Memory-Usage | GPU-Util  Compute M. |\n",
      "|                               |                      |               MIG M. |\n",
      "|===============================+======================+======================|\n",
      "|   0  NVIDIA GeForce ...  Off  | 00000000:1B:00.0 Off |                  N/A |\n",
      "|  0%   25C    P8    25W / 420W |  11750MiB / 24576MiB |      0%      Default |\n",
      "|                               |                      |                  N/A |\n",
      "+-------------------------------+----------------------+----------------------+\n",
      "|   1  NVIDIA GeForce ...  Off  | 00000000:61:00.0 Off |                  N/A |\n",
      "|  0%   30C    P8    29W / 420W |  18716MiB / 24576MiB |      0%      Default |\n",
      "|                               |                      |                  N/A |\n",
      "+-------------------------------+----------------------+----------------------+\n",
      "|   2  NVIDIA GeForce ...  Off  | 00000000:B2:00.0 Off |                  N/A |\n",
      "|  0%   27C    P8    24W / 420W |   3696MiB / 24576MiB |      0%      Default |\n",
      "|                               |                      |                  N/A |\n",
      "+-------------------------------+----------------------+----------------------+\n",
      "|   3  NVIDIA GeForce ...  Off  | 00000000:DB:00.0 Off |                  N/A |\n",
      "|  0%   25C    P8    25W / 420W |   8987MiB / 24576MiB |      0%      Default |\n",
      "|                               |                      |                  N/A |\n",
      "+-------------------------------+----------------------+----------------------+\n",
      "                                                                               \n",
      "+-----------------------------------------------------------------------------+\n",
      "| Processes:                                                                  |\n",
      "|  GPU   GI   CI        PID   Type   Process name                  GPU Memory |\n",
      "|        ID   ID                                                   Usage      |\n",
      "|=============================================================================|\n",
      "|    0   N/A  N/A    633969      C   ...da3/envs/torch/bin/python     1555MiB |\n",
      "|    0   N/A  N/A   1029092      C   ...da3/envs/torch/bin/python     1527MiB |\n",
      "|    0   N/A  N/A   1034670      C   ...da3/envs/torch/bin/python     1543MiB |\n",
      "|    0   N/A  N/A   1244709      C   ...da3/envs/torch/bin/python     1559MiB |\n",
      "|    0   N/A  N/A   2216768      C   ...da3/envs/torch/bin/python     5563MiB |\n",
      "|    1   N/A  N/A    994273      C   ...da3/envs/torch/bin/python     4145MiB |\n",
      "|    1   N/A  N/A   1244709      C   ...da3/envs/torch/bin/python     1231MiB |\n",
      "|    1   N/A  N/A   2216768      C   ...da3/envs/torch/bin/python     1253MiB |\n",
      "|    1   N/A  N/A   2216856      C   ...da3/envs/torch/bin/python    11807MiB |\n",
      "|    1   N/A  N/A   2216993      C   ...tako/anaconda3/bin/python      277MiB |\n",
      "|    2   N/A  N/A   1029092      C   ...da3/envs/torch/bin/python     1231MiB |\n",
      "|    2   N/A  N/A   1034670      C   ...da3/envs/torch/bin/python     1231MiB |\n",
      "|    2   N/A  N/A   1244709      C   ...da3/envs/torch/bin/python     1231MiB |\n",
      "|    3   N/A  N/A    633969      C   ...da3/envs/torch/bin/python     1253MiB |\n",
      "|    3   N/A  N/A   1029092      C   ...da3/envs/torch/bin/python     1231MiB |\n",
      "|    3   N/A  N/A   1034670      C   ...da3/envs/torch/bin/python     1231MiB |\n",
      "|    3   N/A  N/A   1244709      C   ...da3/envs/torch/bin/python     1231MiB |\n",
      "|    3   N/A  N/A   2215400      C   ...da3/envs/torch/bin/python     1253MiB |\n",
      "|    3   N/A  N/A   2216768      C   ...da3/envs/torch/bin/python     1253MiB |\n",
      "|    3   N/A  N/A   2216856      C   ...da3/envs/torch/bin/python     1253MiB |\n",
      "|    3   N/A  N/A   2216993      C   ...tako/anaconda3/bin/python      277MiB |\n",
      "+-----------------------------------------------------------------------------+\n"
     ]
    }
   ],
   "source": [
    "!nvidia-smi"
   ]
  },
  {
   "cell_type": "code",
   "execution_count": 1,
   "metadata": {},
   "outputs": [],
   "source": [
    "import torch\n",
    "import torch.nn as nn\n",
    "import torch.optim as optim\n",
    "from torch.utils.data import DataLoader, TensorDataset"
   ]
  },
  {
   "cell_type": "code",
   "execution_count": 2,
   "metadata": {},
   "outputs": [],
   "source": [
    "device = 'cuda:2' if torch.cuda.is_available() else 'cpu'"
   ]
  },
  {
   "cell_type": "code",
   "execution_count": 3,
   "metadata": {},
   "outputs": [],
   "source": [
    "torch.cuda.set_device(device)"
   ]
  },
  {
   "cell_type": "code",
   "execution_count": 4,
   "metadata": {},
   "outputs": [],
   "source": [
    "from utils import load_cifar10, load_cifar100,load_tinyimagenet"
   ]
  },
  {
   "cell_type": "code",
   "execution_count": 5,
   "metadata": {},
   "outputs": [],
   "source": [
    "classes = ('plane', 'car', 'bird', 'cat', 'deer',\n",
    "           'dog', 'frog', 'horse', 'ship', 'truck')"
   ]
  },
  {
   "cell_type": "code",
   "execution_count": 6,
   "metadata": {},
   "outputs": [
    {
     "name": "stdout",
     "output_type": "stream",
     "text": [
      "Files already downloaded and verified\n",
      "Files already downloaded and verified\n"
     ]
    }
   ],
   "source": [
    "# load cifar10 data\n",
    "trainloader, testloader = load_cifar10(data_dir=\"../data/cifar10\", batch_size=128, \n",
    "                                       test_batch = 10000,train_shuffle=True)"
   ]
  },
  {
   "cell_type": "code",
   "execution_count": 7,
   "metadata": {
    "scrolled": true
   },
   "outputs": [
    {
     "name": "stdout",
     "output_type": "stream",
     "text": [
      "Files already downloaded and verified\n",
      "Files already downloaded and verified\n"
     ]
    }
   ],
   "source": [
    "# load dataloader for steal\n",
    "stealloader,_ = load_cifar100(data_dir=\"../data/cifar100\", batch_size=128, train_shuffle=False)"
   ]
  },
  {
   "cell_type": "code",
   "execution_count": 9,
   "metadata": {},
   "outputs": [
    {
     "name": "stderr",
     "output_type": "stream",
     "text": [
      "/home/tako/anaconda3/envs/torch/lib/python3.7/site-packages/torch/utils/data/dataloader.py:481: UserWarning: This DataLoader will create 100 worker processes in total. Our suggested max number of worker in current system is 80, which is smaller than what this DataLoader is going to create. Please be aware that excessive worker creation might get DataLoader running slow or even freeze, lower the worker number to avoid potential slowness/freeze if necessary.\n",
      "  cpuset_checked))\n"
     ]
    }
   ],
   "source": [
    "# load tinyimagenet for outlier exposure\n",
    "outlier_loader = load_tinyimagenet(data_dir=\"../data/tiny-imagenet-200\", \n",
    "                                   batch_size=128, train_shuffle=True)"
   ]
  },
  {
   "cell_type": "markdown",
   "metadata": {},
   "source": [
    "# For MPC - use softmax (NOT logit)"
   ]
  },
  {
   "cell_type": "code",
   "execution_count": 10,
   "metadata": {},
   "outputs": [],
   "source": [
    "from utils import sliced_wasserstein_distance"
   ]
  },
  {
   "cell_type": "code",
   "execution_count": 11,
   "metadata": {},
   "outputs": [],
   "source": [
    "from cifar_models import Net, Net_logit"
   ]
  },
  {
   "cell_type": "markdown",
   "metadata": {},
   "source": [
    "## Load Real Net"
   ]
  },
  {
   "cell_type": "code",
   "execution_count": 12,
   "metadata": {},
   "outputs": [],
   "source": [
    "from cifar_models import Net, Net_logit, AttackNet"
   ]
  },
  {
   "cell_type": "code",
   "execution_count": 13,
   "metadata": {},
   "outputs": [],
   "source": [
    "from utils import train_model_CE"
   ]
  },
  {
   "cell_type": "code",
   "execution_count": 14,
   "metadata": {
    "scrolled": true
   },
   "outputs": [
    {
     "data": {
      "text/plain": [
       "<All keys matched successfully>"
      ]
     },
     "execution_count": 14,
     "metadata": {},
     "output_type": "execute_result"
    }
   ],
   "source": [
    "import os\n",
    "net_logit = AttackNet() \n",
    "net_logit.load_state_dict(torch.load(\"../../knock_attack/Maxpool_relu_baseline.pth\"))"
   ]
  },
  {
   "cell_type": "markdown",
   "metadata": {},
   "source": [
    "CIFAR 100에 대해서는 logit값이 작은 것들이 있음, 즉, outlier에 대해 덜 confident하게 예측"
   ]
  },
  {
   "cell_type": "markdown",
   "metadata": {},
   "source": [
    "# Load Fake Net"
   ]
  },
  {
   "cell_type": "markdown",
   "metadata": {},
   "source": [
    "### fakenet: maximize loss"
   ]
  },
  {
   "cell_type": "code",
   "execution_count": 15,
   "metadata": {},
   "outputs": [
    {
     "data": {
      "text/plain": [
       "<All keys matched successfully>"
      ]
     },
     "execution_count": 15,
     "metadata": {},
     "output_type": "execute_result"
    }
   ],
   "source": [
    "import os\n",
    "fake_ML = AttackNet()\n",
    "#fake_ML_swd.load_state_dict(torch.load(os.path.join(\"../results\",\"cifar_fake_logit_swd.pth\"),map_location='cpu'))\n",
    "fake_ML.load_state_dict(torch.load(os.path.join(\"../results\",\"cifar_fake_logit_ML.pth\")))"
   ]
  },
  {
   "cell_type": "markdown",
   "metadata": {},
   "source": [
    "### fakenet: maximize loss + SWD"
   ]
  },
  {
   "cell_type": "code",
   "execution_count": 16,
   "metadata": {},
   "outputs": [
    {
     "data": {
      "text/plain": [
       "<All keys matched successfully>"
      ]
     },
     "execution_count": 16,
     "metadata": {},
     "output_type": "execute_result"
    }
   ],
   "source": [
    "import os\n",
    "fake_ML_swd = AttackNet()\n",
    "#fake_ML_swd.load_state_dict(torch.load(os.path.join(\"../results\",\"cifar_fake_logit_swd.pth\"),map_location='cpu'))\n",
    "fake_ML_swd.load_state_dict(torch.load(os.path.join(\"../results\",\"cifar_fake_logit_swd_attacknet_save.pth\")))"
   ]
  },
  {
   "cell_type": "markdown",
   "metadata": {},
   "source": [
    "### fakenet: random label"
   ]
  },
  {
   "cell_type": "code",
   "execution_count": 17,
   "metadata": {},
   "outputs": [
    {
     "data": {
      "text/plain": [
       "<All keys matched successfully>"
      ]
     },
     "execution_count": 17,
     "metadata": {},
     "output_type": "execute_result"
    }
   ],
   "source": [
    "fake_random = AttackNet()\n",
    "fake_random.load_state_dict(torch.load(os.path.join(\"../results\",\"cifar_fake_random_net_logit_attacknet_save.pth\")))"
   ]
  },
  {
   "cell_type": "markdown",
   "metadata": {},
   "source": [
    "### fakenet: random label + SWD"
   ]
  },
  {
   "cell_type": "code",
   "execution_count": 18,
   "metadata": {},
   "outputs": [
    {
     "data": {
      "text/plain": [
       "<All keys matched successfully>"
      ]
     },
     "execution_count": 18,
     "metadata": {},
     "output_type": "execute_result"
    }
   ],
   "source": [
    "fake_random_swd = AttackNet()\n",
    "fake_random_swd.load_state_dict(torch.load(os.path.join(\"../results\",\"cifar_random_logit_swd_attacknet_save.pth\")))"
   ]
  },
  {
   "cell_type": "markdown",
   "metadata": {},
   "source": [
    "# Adversarial attack for orig net"
   ]
  },
  {
   "cell_type": "code",
   "execution_count": 32,
   "metadata": {},
   "outputs": [
    {
     "data": {
      "text/plain": [
       "<All keys matched successfully>"
      ]
     },
     "execution_count": 32,
     "metadata": {},
     "output_type": "execute_result"
    }
   ],
   "source": [
    "st_model_orig = AttackNet()    \n",
    "st_model_orig.load_state_dict(torch.load(os.path.join(\"../results\", 'cifar_attacknet_logit_orig.pth')))"
   ]
  },
  {
   "cell_type": "code",
   "execution_count": 33,
   "metadata": {},
   "outputs": [],
   "source": [
    "atk_logit_orig = PGD(st_model_orig, eps=8/255, alpha=2/255, steps=7)"
   ]
  },
  {
   "cell_type": "code",
   "execution_count": 36,
   "metadata": {},
   "outputs": [],
   "source": [
    "#atk_logit_orig.save(data_loader=testloader, save_path=\"../results/orig_logit_pgd.pt\", verbose=True) #net orig + test image"
   ]
  },
  {
   "cell_type": "code",
   "execution_count": 35,
   "metadata": {},
   "outputs": [],
   "source": [
    "adv_images, adv_labels = torch.load(\"../results/orig_logit_pgd.pt\")\n",
    "adv_data = TensorDataset(adv_images.float(), adv_labels)\n",
    "adv_loader = DataLoader(adv_data, batch_size=128, shuffle=False)"
   ]
  },
  {
   "cell_type": "code",
   "execution_count": 37,
   "metadata": {},
   "outputs": [
    {
     "name": "stdout",
     "output_type": "stream",
     "text": [
      "Robust accuracy: 29.65 %\n"
     ]
    }
   ],
   "source": [
    "net_logit.cuda().eval()\n",
    "\n",
    "correct = 0\n",
    "total = 0\n",
    "\n",
    "for images, labels in adv_loader:\n",
    "    \n",
    "    images = images.cuda()\n",
    "    outputs = net_logit(images)\n",
    "    \n",
    "    _, predicted = torch.max(outputs.data, 1)\n",
    "    \n",
    "    total += labels.size(0)\n",
    "    correct += (predicted == labels.cuda()).sum()\n",
    "    \n",
    "print('Robust accuracy: %.2f %%' % (100 * float(correct) / total))\n",
    "attack_logit_orig = correct/total"
   ]
  },
  {
   "cell_type": "markdown",
   "metadata": {},
   "source": [
    "# Adversarial attack with steal model"
   ]
  },
  {
   "cell_type": "code",
   "execution_count": 30,
   "metadata": {},
   "outputs": [],
   "source": [
    "from adversarial_attacks_pytorch.torchattacks import PGD\n",
    "from utils import CombNet"
   ]
  },
  {
   "cell_type": "code",
   "execution_count": 31,
   "metadata": {},
   "outputs": [],
   "source": [
    "tau_list = [0.1,0.2,0.3,0.4,0.5,0.6,0.7,0.8,0.9]"
   ]
  },
  {
   "cell_type": "markdown",
   "metadata": {},
   "source": [
    "## ML"
   ]
  },
  {
   "cell_type": "code",
   "execution_count": 26,
   "metadata": {},
   "outputs": [
    {
     "name": "stdout",
     "output_type": "stream",
     "text": [
      "- Save progress: 100.00 % / Robust accuracy: 3.04 % / L2: 19.22607 (23.984 it/s) \t\n",
      "Robust accuracy: 32.02 %\n",
      "- Save progress: 100.00 % / Robust accuracy: 2.78 % / L2: 19.19628 (24.332 it/s) \t\n",
      "Robust accuracy: 29.20 %\n",
      "- Save progress: 100.00 % / Robust accuracy: 2.93 % / L2: 19.23001 (24.553 it/s) \t\n",
      "Robust accuracy: 28.95 %\n",
      "- Save progress: 100.00 % / Robust accuracy: 3.82 % / L2: 19.21831 (24.143 it/s) \t\n",
      "Robust accuracy: 32.30 %\n",
      "- Save progress: 100.00 % / Robust accuracy: 2.76 % / L2: 19.18517 (24.165 it/s) \t\n",
      "Robust accuracy: 32.49 %\n",
      "- Save progress: 100.00 % / Robust accuracy: 2.66 % / L2: 19.21749 (24.587 it/s) \t\n",
      "Robust accuracy: 32.94 %\n",
      "- Save progress: 100.00 % / Robust accuracy: 2.29 % / L2: 19.20734 (24.674 it/s) \t\n",
      "Robust accuracy: 36.01 %\n",
      "- Save progress: 100.00 % / Robust accuracy: 2.18 % / L2: 19.15004 (25.199 it/s) \t\n",
      "Robust accuracy: 38.17 %\n",
      "- Save progress: 100.00 % / Robust accuracy: 1.41 % / L2: 19.14781 (25.609 it/s) \t\n",
      "Robust accuracy: 40.51 %\n"
     ]
    }
   ],
   "source": [
    "adv_steal_ml_list = []\n",
    "for tau in tau_list:\n",
    "    st_model_ml = AttackNet()    \n",
    "    st_model_ml.load_state_dict(torch.load(os.path.join(\"../results\", 'cifar_attacknet_logit_ml_new_tau%s.pth'%tau)))\n",
    "    atk_logit_ml = PGD(st_model_ml, eps=8/255, alpha=2/255, steps=7)\n",
    "    atk_logit_ml.save(data_loader=testloader, save_path=\"../results/adv_logit_steal_ml_pgd_tau%s.pt\"%tau, verbose=True)\n",
    "    adv_images, adv_labels = torch.load(\"../results/adv_logit_steal_ml_pgd_tau%s.pt\"%tau)\n",
    "    adv_data = TensorDataset(adv_images.float(), adv_labels)\n",
    "    adv_loader = DataLoader(adv_data, batch_size=128, shuffle=False)\n",
    "    st_model_ml.cuda().eval()\n",
    "    comb_ml = CombNet(net_logit, fake_ML,  tau = tau).to(device)\n",
    "    total = 0\n",
    "    correct = 0\n",
    "    for images, labels in adv_loader:\n",
    "        images = images.cuda()\n",
    "        outputs = comb_ml(images)\n",
    "        _, predicted = torch.max(outputs.data, 1)\n",
    "        total += labels.size(0)\n",
    "        correct += (predicted == labels.cuda()).sum()\n",
    "\n",
    "    print('Robust accuracy: %.2f %%' % (100 * float(correct) / total))\n",
    "    adv_steal_ml_list.append(100 * float(correct) / total)"
   ]
  },
  {
   "cell_type": "code",
   "execution_count": 29,
   "metadata": {},
   "outputs": [
    {
     "data": {
      "text/plain": [
       "[32.02, 29.2, 28.95, 32.3, 32.49, 32.94, 36.01, 38.17, 40.51]"
      ]
     },
     "execution_count": 29,
     "metadata": {},
     "output_type": "execute_result"
    }
   ],
   "source": [
    "adv_steal_ml_list"
   ]
  },
  {
   "cell_type": "markdown",
   "metadata": {},
   "source": [
    "## ML + SWD"
   ]
  },
  {
   "cell_type": "code",
   "execution_count": 31,
   "metadata": {
    "scrolled": false
   },
   "outputs": [
    {
     "name": "stdout",
     "output_type": "stream",
     "text": [
      "- Save progress: 100.00 % / Robust accuracy: 2.79 % / L2: 19.20032 (24.667 it/s) \t\n",
      "Robust accuracy: 29.77 %\n",
      "- Save progress: 100.00 % / Robust accuracy: 2.99 % / L2: 19.18102 (25.179 it/s) \t\n",
      "Robust accuracy: 29.53 %\n",
      "- Save progress: 100.00 % / Robust accuracy: 3.14 % / L2: 19.22201 (25.303 it/s) \t\n",
      "Robust accuracy: 31.08 %\n",
      "- Save progress: 100.00 % / Robust accuracy: 2.55 % / L2: 19.25032 (25.445 it/s) \t\n",
      "Robust accuracy: 30.61 %\n",
      "- Save progress: 100.00 % / Robust accuracy: 3.36 % / L2: 19.22081 (25.555 it/s) \t\n",
      "Robust accuracy: 31.27 %\n",
      "- Save progress: 100.00 % / Robust accuracy: 3.86 % / L2: 19.11928 (25.481 it/s) \t\n",
      "Robust accuracy: 33.06 %\n",
      "- Save progress: 100.00 % / Robust accuracy: 4.79 % / L2: 19.20715 (25.631 it/s) \t\n",
      "Robust accuracy: 35.33 %\n",
      "- Save progress: 100.00 % / Robust accuracy: 6.04 % / L2: 19.01028 (26.267 it/s) \t\n",
      "Robust accuracy: 36.66 %\n",
      "- Save progress: 100.00 % / Robust accuracy: 6.10 % / L2: 18.98740 (25.910 it/s) \t\n",
      "Robust accuracy: 39.10 %\n"
     ]
    }
   ],
   "source": [
    "adv_steal_ml_swd_list = []\n",
    "for tau in tau_list:\n",
    "    st_model_ml_swd = AttackNet()    \n",
    "    st_model_ml_swd.load_state_dict(torch.load(os.path.join(\"../results\", 'cifar_attacknet_logit_ml_swd_new_tau%s.pth'%tau)))\n",
    "    atk_logit_ml_swd = PGD(st_model_ml_swd, eps=8/255, alpha=2/255, steps=7)\n",
    "    atk_logit_ml_swd.save(data_loader=testloader, save_path=\"../results/adv_logit_steal_ml_swd_pgd_tau%s.pt\"%tau, verbose=True)\n",
    "    adv_images, adv_labels = torch.load(\"../results/adv_logit_steal_ml_swd_pgd_tau%s.pt\"%tau)\n",
    "    adv_data = TensorDataset(adv_images.float(), adv_labels)\n",
    "    adv_loader = DataLoader(adv_data, batch_size=128, shuffle=False)\n",
    "    st_model_ml_swd.cuda().eval()\n",
    "    comb_ml_swd = CombNet(net_logit, fake_ML_swd,  tau = tau).to(device)\n",
    "    total = 0\n",
    "    correct = 0\n",
    "    for images, labels in adv_loader:\n",
    "        images = images.cuda()\n",
    "        outputs = comb_ml_swd(images)\n",
    "        _, predicted = torch.max(outputs.data, 1)\n",
    "        total += labels.size(0)\n",
    "        correct += (predicted == labels.cuda()).sum()\n",
    "\n",
    "    print('Robust accuracy: %.2f %%' % (100 * float(correct) / total))\n",
    "    adv_steal_ml_swd_list.append(100 * float(correct) / total)"
   ]
  },
  {
   "cell_type": "code",
   "execution_count": 32,
   "metadata": {},
   "outputs": [
    {
     "data": {
      "text/plain": [
       "[29.77, 29.53, 31.08, 30.61, 31.27, 33.06, 35.33, 36.66, 39.1]"
      ]
     },
     "execution_count": 32,
     "metadata": {},
     "output_type": "execute_result"
    }
   ],
   "source": [
    "adv_steal_ml_swd_list"
   ]
  },
  {
   "cell_type": "markdown",
   "metadata": {},
   "source": [
    "## Random"
   ]
  },
  {
   "cell_type": "code",
   "execution_count": 33,
   "metadata": {},
   "outputs": [
    {
     "name": "stdout",
     "output_type": "stream",
     "text": [
      "- Save progress: 100.00 % / Robust accuracy: 2.95 % / L2: 19.20183 (26.035 it/s) \t\n",
      "Robust accuracy: 29.65 %\n",
      "- Save progress: 100.00 % / Robust accuracy: 3.38 % / L2: 19.24538 (25.413 it/s) \t\n",
      "Robust accuracy: 32.51 %\n",
      "- Save progress: 100.00 % / Robust accuracy: 2.76 % / L2: 19.20557 (25.919 it/s) \t\n",
      "Robust accuracy: 29.95 %\n",
      "- Save progress: 100.00 % / Robust accuracy: 3.04 % / L2: 19.23996 (26.625 it/s) \t\n",
      "Robust accuracy: 29.48 %\n",
      "- Save progress: 100.00 % / Robust accuracy: 3.32 % / L2: 19.19867 (25.718 it/s) \t\n",
      "Robust accuracy: 31.11 %\n",
      "- Save progress: 100.00 % / Robust accuracy: 3.82 % / L2: 19.20200 (25.650 it/s) \t\n",
      "Robust accuracy: 32.19 %\n",
      "- Save progress: 100.00 % / Robust accuracy: 4.19 % / L2: 19.25940 (25.802 it/s) \t\n",
      "Robust accuracy: 32.85 %\n",
      "- Save progress: 100.00 % / Robust accuracy: 5.19 % / L2: 19.15572 (25.907 it/s) \t\n",
      "Robust accuracy: 34.12 %\n",
      "- Save progress: 100.00 % / Robust accuracy: 4.73 % / L2: 19.20359 (25.806 it/s) \t\n",
      "Robust accuracy: 35.75 %\n"
     ]
    }
   ],
   "source": [
    "adv_steal_random_list = []\n",
    "for tau in tau_list:\n",
    "    st_model_random = AttackNet()    \n",
    "    st_model_random.load_state_dict(torch.load(os.path.join(\"../results\", 'cifar_attacknet_logit_random_new_tau%s.pth'%tau)))\n",
    "    atk_logit_random = PGD(st_model_random, eps=8/255, alpha=2/255, steps=7)\n",
    "    atk_logit_random.save(data_loader=testloader, save_path=\"../results/adv_logit_steal_random_pgd_tau%s.pt\"%tau, verbose=True)\n",
    "    adv_images, adv_labels = torch.load(\"../results/adv_logit_steal_random_pgd_tau%s.pt\"%tau)\n",
    "    adv_data = TensorDataset(adv_images.float(), adv_labels)\n",
    "    adv_loader = DataLoader(adv_data, batch_size=128, shuffle=False)\n",
    "    st_model_random.cuda().eval()\n",
    "    comb_random = CombNet(net_logit, fake_random,  tau = tau).to(device)\n",
    "    total = 0\n",
    "    correct = 0\n",
    "    for images, labels in adv_loader:\n",
    "        images = images.cuda()\n",
    "        outputs = comb_random(images)\n",
    "        _, predicted = torch.max(outputs.data, 1)\n",
    "        total += labels.size(0)\n",
    "        correct += (predicted == labels.cuda()).sum()\n",
    "\n",
    "    print('Robust accuracy: %.2f %%' % (100 * float(correct) / total))\n",
    "    adv_steal_random_list.append(100 * float(correct) / total)"
   ]
  },
  {
   "cell_type": "code",
   "execution_count": 34,
   "metadata": {},
   "outputs": [
    {
     "data": {
      "text/plain": [
       "[29.65, 32.51, 29.95, 29.48, 31.11, 32.19, 32.85, 34.12, 35.75]"
      ]
     },
     "execution_count": 34,
     "metadata": {},
     "output_type": "execute_result"
    }
   ],
   "source": [
    "adv_steal_random_list"
   ]
  },
  {
   "cell_type": "markdown",
   "metadata": {},
   "source": [
    "## random + swd"
   ]
  },
  {
   "cell_type": "code",
   "execution_count": 35,
   "metadata": {},
   "outputs": [
    {
     "name": "stdout",
     "output_type": "stream",
     "text": [
      "- Save progress: 100.00 % / Robust accuracy: 2.98 % / L2: 19.20513 (26.116 it/s) \t\n",
      "Robust accuracy: 30.19 %\n",
      "- Save progress: 100.00 % / Robust accuracy: 2.66 % / L2: 19.22713 (26.172 it/s) \t\n",
      "Robust accuracy: 30.24 %\n",
      "- Save progress: 100.00 % / Robust accuracy: 2.86 % / L2: 19.21292 (26.162 it/s) \t\n",
      "Robust accuracy: 29.42 %\n",
      "- Save progress: 100.00 % / Robust accuracy: 3.04 % / L2: 19.22101 (25.962 it/s) \t\n",
      "Robust accuracy: 31.79 %\n",
      "- Save progress: 100.00 % / Robust accuracy: 3.80 % / L2: 19.20955 (26.133 it/s) \t\n",
      "Robust accuracy: 31.34 %\n",
      "- Save progress: 100.00 % / Robust accuracy: 4.33 % / L2: 19.23825 (25.928 it/s) \t\n",
      "Robust accuracy: 30.98 %\n",
      "- Save progress: 100.00 % / Robust accuracy: 3.43 % / L2: 19.17748 (26.306 it/s) \t\n",
      "Robust accuracy: 32.81 %\n",
      "- Save progress: 100.00 % / Robust accuracy: 4.01 % / L2: 19.15593 (25.533 it/s) \t\n",
      "Robust accuracy: 33.97 %\n",
      "- Save progress: 100.00 % / Robust accuracy: 4.82 % / L2: 19.14158 (25.840 it/s) \t\n",
      "Robust accuracy: 37.21 %\n"
     ]
    }
   ],
   "source": [
    "adv_steal_random_swd_list = []\n",
    "for tau in tau_list:\n",
    "    st_model_random_swd = AttackNet()    \n",
    "    st_model_random_swd.load_state_dict(torch.load(os.path.join(\"../results\", 'cifar_attacknet_logit_random_swd_new_tau%s.pth'%tau)))\n",
    "    atk_logit_random_swd = PGD(st_model_random_swd, eps=8/255, alpha=2/255, steps=7)\n",
    "    atk_logit_random_swd.save(data_loader=testloader, save_path=\"../results/adv_logit_steal_random_swd_pgd_tau%s.pt\"%tau, verbose=True)\n",
    "    adv_images, adv_labels = torch.load(\"../results/adv_logit_steal_random_swd_pgd_tau%s.pt\"%tau)\n",
    "    adv_data = TensorDataset(adv_images.float(), adv_labels)\n",
    "    adv_loader = DataLoader(adv_data, batch_size=128, shuffle=False)\n",
    "    st_model_random_swd.cuda().eval()\n",
    "    comb_random_swd = CombNet(net_logit, fake_random_swd,  tau = tau).to(device)\n",
    "    total = 0\n",
    "    correct = 0\n",
    "    for images, labels in adv_loader:\n",
    "        images = images.cuda()\n",
    "        outputs = comb_random_swd(images)\n",
    "        _, predicted = torch.max(outputs.data, 1)\n",
    "        total += labels.size(0)\n",
    "        correct += (predicted == labels.cuda()).sum()\n",
    "\n",
    "    print('Robust accuracy: %.2f %%' % (100 * float(correct) / total))\n",
    "    adv_steal_random_swd_list.append(100 * float(correct) / total)"
   ]
  },
  {
   "cell_type": "code",
   "execution_count": 36,
   "metadata": {},
   "outputs": [
    {
     "data": {
      "text/plain": [
       "[30.19, 30.24, 29.42, 31.79, 31.34, 30.98, 32.81, 33.97, 37.21]"
      ]
     },
     "execution_count": 36,
     "metadata": {},
     "output_type": "execute_result"
    }
   ],
   "source": [
    "adv_steal_random_swd_list"
   ]
  },
  {
   "cell_type": "code",
   "execution_count": 22,
   "metadata": {},
   "outputs": [],
   "source": [
    "tau_list = [0.1,0.2,0.3,0.4,0.5,0.6,0.7,0.8,0.9]"
   ]
  },
  {
   "cell_type": "code",
   "execution_count": 25,
   "metadata": {},
   "outputs": [
    {
     "data": {
      "text/plain": [
       "AttackNet(\n",
       "  (pool): MaxPool2d(kernel_size=2, stride=2, padding=0, dilation=1, ceil_mode=False)\n",
       "  (conv1): Conv2d(3, 32, kernel_size=(3, 3), stride=(1, 1), padding=(1, 1))\n",
       "  (conv2): Conv2d(32, 64, kernel_size=(3, 3), stride=(1, 1), padding=(1, 1))\n",
       "  (conv3): Conv2d(64, 128, kernel_size=(3, 3), stride=(1, 1), padding=(1, 1))\n",
       "  (classifier): Sequential(\n",
       "    (0): Linear(in_features=2048, out_features=256, bias=True)\n",
       "    (1): Linear(in_features=256, out_features=10, bias=True)\n",
       "  )\n",
       ")"
      ]
     },
     "execution_count": 25,
     "metadata": {},
     "output_type": "execute_result"
    }
   ],
   "source": [
    "net_logit.cuda()"
   ]
  },
  {
   "cell_type": "code",
   "execution_count": 27,
   "metadata": {},
   "outputs": [
    {
     "name": "stdout",
     "output_type": "stream",
     "text": [
      "Robust accuracy: 32.02 %\n",
      "Robust accuracy: 29.20 %\n",
      "Robust accuracy: 28.95 %\n",
      "Robust accuracy: 32.30 %\n",
      "Robust accuracy: 32.49 %\n",
      "Robust accuracy: 32.94 %\n",
      "Robust accuracy: 36.01 %\n",
      "Robust accuracy: 38.17 %\n",
      "Robust accuracy: 40.51 %\n"
     ]
    }
   ],
   "source": [
    "adv_steal_ml_list = []\n",
    "for tau in tau_list:\n",
    "    st_model_ml = AttackNet()    \n",
    "    st_model_ml.load_state_dict(torch.load(os.path.join(\"../results\", 'cifar_attacknet_logit_ml_new_tau%s.pth'%tau)))\n",
    "    adv_images, adv_labels = torch.load(\"../results/adv_logit_steal_ml_pgd_tau%s.pt\"%tau)\n",
    "    adv_data = TensorDataset(adv_images.float(), adv_labels)\n",
    "    adv_loader = DataLoader(adv_data, batch_size=128, shuffle=False)\n",
    "    st_model_ml.cuda().eval()\n",
    "#    comb_ml = CombNet(net_logit, fake_ML,  tau = tau).to(device)\n",
    "    total = 0\n",
    "    correct = 0\n",
    "    for images, labels in adv_loader:\n",
    "        images = images.cuda()\n",
    "        outputs = net_logit(images)\n",
    "        _, predicted = torch.max(outputs.data, 1)\n",
    "        total += labels.size(0)\n",
    "        correct += (predicted == labels.cuda()).sum()\n",
    "\n",
    "    print('Robust accuracy: %.2f %%' % (100 * float(correct) / total))\n",
    "    adv_steal_ml_list.append(100 * float(correct) / total)"
   ]
  },
  {
   "cell_type": "code",
   "execution_count": 29,
   "metadata": {},
   "outputs": [
    {
     "name": "stdout",
     "output_type": "stream",
     "text": [
      "Robust accuracy: 29.77 %\n",
      "Robust accuracy: 29.53 %\n",
      "Robust accuracy: 31.08 %\n",
      "Robust accuracy: 30.61 %\n",
      "Robust accuracy: 31.27 %\n",
      "Robust accuracy: 33.06 %\n",
      "Robust accuracy: 35.33 %\n",
      "Robust accuracy: 36.66 %\n",
      "Robust accuracy: 39.10 %\n"
     ]
    }
   ],
   "source": [
    "adv_steal_ml_swd_list = []\n",
    "for tau in tau_list:\n",
    "    st_model_ml_swd = AttackNet()    \n",
    "    st_model_ml_swd.load_state_dict(torch.load(os.path.join(\"../results\", 'cifar_attacknet_logit_ml_swd_new_tau%s.pth'%tau)))\n",
    "    adv_images, adv_labels = torch.load(\"../results/adv_logit_steal_ml_swd_pgd_tau%s.pt\"%tau)\n",
    "    adv_data = TensorDataset(adv_images.float(), adv_labels)\n",
    "    adv_loader = DataLoader(adv_data, batch_size=128, shuffle=False)\n",
    "    st_model_ml_swd.cuda().eval()\n",
    "    total = 0\n",
    "    correct = 0\n",
    "    for images, labels in adv_loader:\n",
    "        images = images.cuda()\n",
    "        outputs = net_logit(images)\n",
    "        _, predicted = torch.max(outputs.data, 1)\n",
    "        total += labels.size(0)\n",
    "        correct += (predicted == labels.cuda()).sum()\n",
    "\n",
    "    print('Robust accuracy: %.2f %%' % (100 * float(correct) / total))\n",
    "    adv_steal_ml_swd_list.append(100 * float(correct) / total)"
   ]
  },
  {
   "cell_type": "code",
   "execution_count": 39,
   "metadata": {},
   "outputs": [
    {
     "name": "stdout",
     "output_type": "stream",
     "text": [
      "Robust accuracy: 29.65 %\n",
      "Robust accuracy: 32.51 %\n",
      "Robust accuracy: 29.95 %\n",
      "Robust accuracy: 29.48 %\n",
      "Robust accuracy: 31.11 %\n",
      "Robust accuracy: 32.19 %\n",
      "Robust accuracy: 32.85 %\n",
      "Robust accuracy: 34.12 %\n",
      "Robust accuracy: 35.75 %\n"
     ]
    }
   ],
   "source": [
    "adv_steal_random_list = []\n",
    "for tau in tau_list:\n",
    "    st_model_random = AttackNet()    \n",
    "    st_model_random.load_state_dict(torch.load(os.path.join(\"../results\", 'cifar_attacknet_logit_random_new_tau%s.pth'%tau)))\n",
    "    adv_images, adv_labels = torch.load(\"../results/adv_logit_steal_random_pgd_tau%s.pt\"%tau)\n",
    "    adv_data = TensorDataset(adv_images.float(), adv_labels)\n",
    "    adv_loader = DataLoader(adv_data, batch_size=128, shuffle=False)\n",
    "    st_model_random.cuda().eval()\n",
    "    total = 0\n",
    "    correct = 0\n",
    "    for images, labels in adv_loader:\n",
    "        images = images.cuda()\n",
    "        outputs = net_logit(images)\n",
    "        _, predicted = torch.max(outputs.data, 1)\n",
    "        total += labels.size(0)\n",
    "        correct += (predicted == labels.cuda()).sum()\n",
    "\n",
    "    print('Robust accuracy: %.2f %%' % (100 * float(correct) / total))\n",
    "    adv_steal_random_list.append(100 * float(correct) / total)"
   ]
  },
  {
   "cell_type": "code",
   "execution_count": 40,
   "metadata": {},
   "outputs": [
    {
     "name": "stdout",
     "output_type": "stream",
     "text": [
      "Robust accuracy: 30.19 %\n",
      "Robust accuracy: 30.24 %\n",
      "Robust accuracy: 29.42 %\n",
      "Robust accuracy: 31.79 %\n",
      "Robust accuracy: 31.34 %\n",
      "Robust accuracy: 30.98 %\n",
      "Robust accuracy: 32.81 %\n",
      "Robust accuracy: 33.97 %\n",
      "Robust accuracy: 37.21 %\n"
     ]
    }
   ],
   "source": [
    "adv_steal_random_swd_list = []\n",
    "for tau in tau_list:\n",
    "    st_model_random_swd = AttackNet()    \n",
    "    st_model_random_swd.load_state_dict(torch.load(os.path.join(\"../results\", 'cifar_attacknet_logit_random_swd_new_tau%s.pth'%tau)))\n",
    "    adv_images, adv_labels = torch.load(\"../results/adv_logit_steal_random_swd_pgd_tau%s.pt\"%tau)\n",
    "    adv_data = TensorDataset(adv_images.float(), adv_labels)\n",
    "    adv_loader = DataLoader(adv_data, batch_size=128, shuffle=False)\n",
    "    st_model_random_swd.cuda().eval()\n",
    "    total = 0\n",
    "    correct = 0\n",
    "    for images, labels in adv_loader:\n",
    "        images = images.cuda()\n",
    "        outputs = net_logit(images)\n",
    "        _, predicted = torch.max(outputs.data, 1)\n",
    "        total += labels.size(0)\n",
    "        correct += (predicted == labels.cuda()).sum()\n",
    "\n",
    "    print('Robust accuracy: %.2f %%' % (100 * float(correct) / total))\n",
    "    adv_steal_random_swd_list.append(100 * float(correct) / total)"
   ]
  },
  {
   "cell_type": "code",
   "execution_count": 43,
   "metadata": {},
   "outputs": [
    {
     "data": {
      "image/png": "[encoded data removed]",
      "text/plain": [
       "<Figure size 432x288 with 1 Axes>"
      ]
     },
     "metadata": {
      "needs_background": "light"
     },
     "output_type": "display_data"
    }
   ],
   "source": [
    "from utils import make_smooth_plot\n",
    "from matplotlib import pyplot as plt\n",
    "import numpy as np\n",
    "taus = tau_list\n",
    "make_smooth_plot(taus, adv_steal_ml_list, label = 'ml')\n",
    "make_smooth_plot(taus, adv_steal_ml_swd_list, label = 'ml swd')\n",
    "plt.plot(taus, np.ones(9) * 100 * attack_logit_orig.item() , 'k--')\n",
    "\n",
    "plt.show()"
   ]
  },
  {
   "cell_type": "code",
   "execution_count": 45,
   "metadata": {},
   "outputs": [
    {
     "data": {
      "image/png": "[encoded data removed]",
      "text/plain": [
       "<Figure size 432x288 with 1 Axes>"
      ]
     },
     "metadata": {
      "needs_background": "light"
     },
     "output_type": "display_data"
    }
   ],
   "source": [
    "import numpy as np\n",
    "taus = tau_list\n",
    "plt.plot(taus, adv_steal_ml_list, label = 'ml')\n",
    "plt.plot(taus, adv_steal_ml_swd_list, label = 'ml swd')\n",
    "plt.legend()\n",
    "plt.plot(taus, np.ones(9) * 100 * attack_logit_orig.item() , 'k--')\n",
    "\n",
    "plt.show()"
   ]
  },
  {
   "cell_type": "code",
   "execution_count": 46,
   "metadata": {},
   "outputs": [
    {
     "data": {
      "image/png": "[encoded data removed]",
      "text/plain": [
       "<Figure size 432x288 with 1 Axes>"
      ]
     },
     "metadata": {
      "needs_background": "light"
     },
     "output_type": "display_data"
    }
   ],
   "source": [
    "make_smooth_plot(taus, adv_steal_random_list, label = 'random')\n",
    "make_smooth_plot(taus, adv_steal_random_swd_list, label = 'random swd')\n",
    "plt.plot(taus,np.ones(9) * 100 * attack_logit_orig.item()  , 'k--')\n",
    "\n",
    "plt.show()\n",
    "\n"
   ]
  },
  {
   "cell_type": "code",
   "execution_count": 47,
   "metadata": {},
   "outputs": [
    {
     "data": {
      "image/png": "[encoded data removed]",
      "text/plain": [
       "<Figure size 432x288 with 1 Axes>"
      ]
     },
     "metadata": {
      "needs_background": "light"
     },
     "output_type": "display_data"
    }
   ],
   "source": [
    "plt.plot(taus, adv_steal_random_list, label = 'random')\n",
    "plt.plot(taus, adv_steal_random_swd_list, label = 'random swd')\n",
    "plt.plot(taus,np.ones(9) * 100 * attack_logit_orig.item()  , 'k--')\n",
    "plt.legend()\n",
    "plt.show()\n",
    "\n"
   ]
  },
  {
   "cell_type": "code",
   "execution_count": null,
   "metadata": {},
   "outputs": [],
   "source": []
  }
 ],
 "metadata": {
  "kernelspec": {
   "display_name": "torch1.9.0",
   "language": "python",
   "name": "torch"
  },
  "language_info": {
   "codemirror_mode": {
    "name": "ipython",
    "version": 3
   },
   "file_extension": ".py",
   "mimetype": "text/x-python",
   "name": "python",
   "nbconvert_exporter": "python",
   "pygments_lexer": "ipython3",
   "version": "3.7.7"
  }
 },
 "nbformat": 4,
 "nbformat_minor": 4
}
