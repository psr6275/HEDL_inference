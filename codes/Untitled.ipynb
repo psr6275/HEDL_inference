{
 "cells": [
  {
   "cell_type": "code",
   "execution_count": 1,
   "id": "a2a92127",
   "metadata": {},
   "outputs": [],
   "source": [
    "import crypten"
   ]
  },
  {
   "cell_type": "code",
   "execution_count": 2,
   "id": "19b6068a",
   "metadata": {},
   "outputs": [],
   "source": [
    "import torch"
   ]
  },
  {
   "cell_type": "code",
   "execution_count": 3,
   "id": "a91dbe66",
   "metadata": {},
   "outputs": [],
   "source": [
    "crypten.init()"
   ]
  },
  {
   "cell_type": "code",
   "execution_count": 4,
   "id": "5041e357",
   "metadata": {},
   "outputs": [],
   "source": [
    "x = torch.rand((128,10))"
   ]
  },
  {
   "cell_type": "code",
   "execution_count": 5,
   "id": "73693648",
   "metadata": {},
   "outputs": [],
   "source": [
    "x_enc = crypten.cryptensor(x)"
   ]
  },
  {
   "cell_type": "code",
   "execution_count": 6,
   "id": "43325e05",
   "metadata": {},
   "outputs": [],
   "source": [
    "import crypten.mpc as mpc\n",
    "import crypten.communicator as comm"
   ]
  },
  {
   "cell_type": "code",
   "execution_count": 8,
   "id": "2b9f11d6",
   "metadata": {},
   "outputs": [],
   "source": [
    "import torch.nn as nn"
   ]
  },
  {
   "cell_type": "code",
   "execution_count": 24,
   "id": "29c29e1f",
   "metadata": {},
   "outputs": [],
   "source": [
    "class SigModel(nn.Module):\n",
    "    def __init__(self, comp=0.5, nu = 1.0):\n",
    "        super(SigModel,self).__init__()\n",
    "        self.comp = comp\n",
    "        self.nu = nu\n",
    "    def forward(self, x):\n",
    "        max_val = x.max(dim=1)[0]\n",
    "        cond_in = torch.sigmoid(self.nu*(self.comp-max_val))\n",
    "        return cond_in"
   ]
  },
  {
   "cell_type": "code",
   "execution_count": 89,
   "id": "2c683225",
   "metadata": {},
   "outputs": [],
   "source": [
    "def inference_sigmodel(x,comp=0.5, nu=1.0):\n",
    "    max_val = x.max(dim=1)[0]\n",
    "    cond_in = (nu*(comp-max_val)).sigmoid()\n",
    "    return cond_in\n",
    "def inference_comp(x,comp=0.8):\n",
    "    max_val = x.max(dim=1)[0]\n",
    "    cond_in = max_val>comp\n",
    "    return 1-cond_in"
   ]
  },
  {
   "cell_type": "code",
   "execution_count": 90,
   "id": "9f51420b",
   "metadata": {},
   "outputs": [],
   "source": [
    "class CompModel(nn.Module):\n",
    "    def __init__(self, comp = 0.5):\n",
    "        super(CompModel, self).__init__()\n",
    "        self.comp = comp\n",
    "    def forward(self,x):\n",
    "        max_val = x.max(dim=1)[0]\n",
    "        cond_in = max_val>self.comp\n",
    "        return cond_in"
   ]
  },
  {
   "cell_type": "code",
   "execution_count": 97,
   "id": "5babc84d",
   "metadata": {},
   "outputs": [
    {
     "data": {
      "text/plain": [
       "0.3486784401000001"
      ]
     },
     "execution_count": 97,
     "metadata": {},
     "output_type": "execute_result"
    }
   ],
   "source": [
    "0.9**10\n"
   ]
  },
  {
   "cell_type": "code",
   "execution_count": 91,
   "id": "c5ee5a70",
   "metadata": {},
   "outputs": [
    {
     "data": {
      "text/plain": [
       "crypten.nn.module.Sigmoid"
      ]
     },
     "execution_count": 91,
     "metadata": {},
     "output_type": "execute_result"
    }
   ],
   "source": [
    "crypten.nn.Sigmoid"
   ]
  },
  {
   "cell_type": "code",
   "execution_count": 92,
   "id": "5493326f",
   "metadata": {},
   "outputs": [
    {
     "data": {
      "text/plain": [
       "tensor([[0.6921, 0.7249, 0.5323,  ..., 0.5598, 0.6278, 0.7278],\n",
       "        [0.5908, 0.6544, 0.7073,  ..., 0.5471, 0.6873, 0.7035],\n",
       "        [0.5119, 0.5003, 0.7055,  ..., 0.7015, 0.5170, 0.7010],\n",
       "        ...,\n",
       "        [0.5350, 0.5219, 0.6482,  ..., 0.5678, 0.5608, 0.6697],\n",
       "        [0.5759, 0.6806, 0.6750,  ..., 0.5110, 0.6858, 0.5933],\n",
       "        [0.7031, 0.7036, 0.5597,  ..., 0.6572, 0.5977, 0.6587]])"
      ]
     },
     "execution_count": 92,
     "metadata": {},
     "output_type": "execute_result"
    }
   ],
   "source": [
    "x.sigmoid()"
   ]
  },
  {
   "cell_type": "code",
   "execution_count": 93,
   "id": "fe79e27e",
   "metadata": {},
   "outputs": [],
   "source": [
    "sigmodel = SigModel()\n",
    "compmodel = CompModel()"
   ]
  },
  {
   "cell_type": "code",
   "execution_count": 94,
   "id": "1c85683d",
   "metadata": {},
   "outputs": [],
   "source": [
    "enc_out = inference_sigmodel(x_enc)"
   ]
  },
  {
   "cell_type": "code",
   "execution_count": 95,
   "id": "41553901",
   "metadata": {},
   "outputs": [
    {
     "ename": "NotImplementedError",
     "evalue": "CrypTen does not support torch function <built-in method logical_not of type object at 0x7f38506560a0>.",
     "output_type": "error",
     "traceback": [
      "\u001b[0;31m---------------------------------------------------------------------------\u001b[0m",
      "\u001b[0;31mNotImplementedError\u001b[0m                       Traceback (most recent call last)",
      "Input \u001b[0;32mIn [95]\u001b[0m, in \u001b[0;36m<cell line: 1>\u001b[0;34m()\u001b[0m\n\u001b[0;32m----> 1\u001b[0m enc_out2 \u001b[38;5;241m=\u001b[39m \u001b[43minference_comp\u001b[49m\u001b[43m(\u001b[49m\u001b[43mx_enc\u001b[49m\u001b[43m)\u001b[49m\n",
      "Input \u001b[0;32mIn [89]\u001b[0m, in \u001b[0;36minference_comp\u001b[0;34m(x, comp)\u001b[0m\n\u001b[1;32m      6\u001b[0m max_val \u001b[38;5;241m=\u001b[39m x\u001b[38;5;241m.\u001b[39mmax(dim\u001b[38;5;241m=\u001b[39m\u001b[38;5;241m1\u001b[39m)[\u001b[38;5;241m0\u001b[39m]\n\u001b[1;32m      7\u001b[0m cond_in \u001b[38;5;241m=\u001b[39m max_val\u001b[38;5;241m>\u001b[39mcomp\n\u001b[0;32m----> 8\u001b[0m \u001b[38;5;28;01mreturn\u001b[39;00m \u001b[43mtorch\u001b[49m\u001b[38;5;241;43m.\u001b[39;49m\u001b[43mlogical_not\u001b[49m\u001b[43m(\u001b[49m\u001b[43mcond_in\u001b[49m\u001b[43m)\u001b[49m\n",
      "File \u001b[0;32m~/.pyenv/versions/crypten/lib/python3.8/site-packages/crypten/cryptensor.py:304\u001b[0m, in \u001b[0;36mCrypTensor.__torch_function__\u001b[0;34m(self, func, types, args, kwargs)\u001b[0m\n\u001b[1;32m    302\u001b[0m     \u001b[38;5;28;01mreturn\u001b[39;00m \u001b[38;5;28mgetattr\u001b[39m(crypten, STATIC_FUNCTION_MAPPING[func])(\u001b[38;5;241m*\u001b[39margs, \u001b[38;5;241m*\u001b[39m\u001b[38;5;241m*\u001b[39mkwargs)\n\u001b[1;32m    303\u001b[0m \u001b[38;5;28;01melse\u001b[39;00m:\n\u001b[0;32m--> 304\u001b[0m     \u001b[38;5;28;01mraise\u001b[39;00m \u001b[38;5;167;01mNotImplementedError\u001b[39;00m(\n\u001b[1;32m    305\u001b[0m         \u001b[38;5;124mf\u001b[39m\u001b[38;5;124m\"\u001b[39m\u001b[38;5;124mCrypTen does not support torch function \u001b[39m\u001b[38;5;132;01m{\u001b[39;00mfunc\u001b[38;5;132;01m}\u001b[39;00m\u001b[38;5;124m.\u001b[39m\u001b[38;5;124m\"\u001b[39m\n\u001b[1;32m    306\u001b[0m     )\n",
      "\u001b[0;31mNotImplementedError\u001b[0m: CrypTen does not support torch function <built-in method logical_not of type object at 0x7f38506560a0>."
     ]
    }
   ],
   "source": [
    "enc_out2 = inference_comp(x_enc)"
   ]
  },
  {
   "cell_type": "code",
   "execution_count": 85,
   "id": "8a8319b8",
   "metadata": {},
   "outputs": [
    {
     "data": {
      "text/plain": [
       "tensor([ 6.3598e-05, -5.3734e-04,  2.1085e-04, -4.3213e-04,  2.1401e-04,\n",
       "         7.3045e-05, -3.9920e-04,  4.1455e-05,  1.4484e-05, -2.1562e-04,\n",
       "         2.8715e-04,  3.8576e-04, -2.0409e-04, -4.1789e-04, -1.8051e-04,\n",
       "        -3.1963e-04,  6.7648e-04,  1.9914e-04, -2.9045e-04, -1.4693e-05,\n",
       "         1.0505e-04,  5.8490e-04,  2.4995e-04,  5.0205e-04, -3.0902e-04,\n",
       "         3.7262e-04, -3.2011e-04,  9.4035e-04, -1.1167e-04, -8.1211e-05,\n",
       "         3.5954e-04,  1.6189e-04,  3.1504e-04,  3.7196e-04, -3.7119e-04,\n",
       "         5.1379e-04,  1.3083e-05,  3.0506e-04, -3.3519e-04, -6.5297e-05,\n",
       "        -2.2310e-04,  3.2163e-04,  1.7464e-04,  4.0972e-04,  2.7409e-04,\n",
       "         4.7335e-04,  4.1169e-04, -2.9656e-04, -4.5753e-04, -4.7630e-04,\n",
       "         3.2195e-04,  5.0902e-05, -2.5147e-04, -2.0283e-04, -6.0967e-04,\n",
       "        -5.1704e-04,  6.0838e-04,  3.6737e-04,  4.7401e-04, -2.2274e-04,\n",
       "        -2.1195e-04, -1.0672e-04, -2.6259e-04,  2.0248e-04, -5.8740e-04,\n",
       "         2.1046e-04, -3.5858e-04,  8.6486e-05, -5.5110e-04, -2.6134e-04,\n",
       "         4.8575e-04,  2.0736e-04,  1.0967e-05,  3.3569e-04,  1.2738e-04,\n",
       "         2.4691e-04, -1.9357e-04,  8.0705e-05, -4.5690e-04, -3.8955e-04,\n",
       "         4.1616e-04, -2.2963e-04,  3.4538e-04,  4.6092e-04, -2.1249e-04,\n",
       "         2.3037e-04, -4.7827e-04, -4.5359e-05, -3.5372e-04, -1.9193e-05,\n",
       "        -4.6962e-04, -5.4210e-05,  2.7081e-04,  1.8004e-04,  7.0852e-04,\n",
       "         2.4784e-04,  2.5901e-04,  1.2946e-04, -2.3958e-04, -7.8291e-05,\n",
       "        -6.3524e-04,  2.9773e-04, -3.0696e-06, -2.4870e-04, -3.8448e-04,\n",
       "         1.1221e-04,  1.9941e-04,  5.7626e-04,  1.8486e-04,  1.1855e-04,\n",
       "         1.1918e-04,  9.7871e-05,  4.8906e-04,  4.0212e-04,  1.0335e-04,\n",
       "         7.2718e-05, -2.8041e-04,  6.2734e-05,  1.4675e-04,  2.4992e-04,\n",
       "         1.0899e-04,  7.2837e-05, -2.5314e-04,  3.1528e-04, -3.2097e-05,\n",
       "         8.4496e-04,  5.5981e-04, -6.5714e-05])"
      ]
     },
     "execution_count": 85,
     "metadata": {},
     "output_type": "execute_result"
    }
   ],
   "source": [
    "enc_out.get_plain_text()-inference_sigmodel(x)"
   ]
  },
  {
   "cell_type": "code",
   "execution_count": null,
   "id": "e6807d07",
   "metadata": {},
   "outputs": [],
   "source": []
  },
  {
   "cell_type": "code",
   "execution_count": 86,
   "id": "42a2903a",
   "metadata": {},
   "outputs": [
    {
     "data": {
      "text/plain": [
       "tensor([0, 0, 0, 0, 0, 0, 0, 0, 0, 3, 0, 0, 0, 0, 0, 0, 3, 0, 0, 0, 0, 3, 3, 0,\n",
       "        0, 0, 0, 3, 0, 0, 0, 0, 3, 3, 0, 3, 0, 0, 0, 0, 0, 0, 0, 0, 0, 0, 0, 0,\n",
       "        0, 0, 0, 0, 0, 0, 0, 0, 3, 3, 0, 0, 0, 0, 0, 0, 0, 0, 0, 0, 0, 0, 0, 0,\n",
       "        0, 0, 0, 0, 0, 0, 0, 0, 0, 0, 0, 0, 0, 0, 0, 0, 0, 0, 0, 3, 0, 0, 3, 0,\n",
       "        0, 0, 3, 0, 0, 0, 0, 0, 0, 0, 0, 0, 0, 0, 0, 0, 0, 0, 0, 0, 0, 0, 0, 0,\n",
       "        0, 0, 0, 0, 3, 3, 3, 0])"
      ]
     },
     "execution_count": 86,
     "metadata": {},
     "output_type": "execute_result"
    }
   ],
   "source": [
    "enc_out2.get_plain_text()"
   ]
  },
  {
   "cell_type": "code",
   "execution_count": null,
   "id": "ae6895b3",
   "metadata": {},
   "outputs": [],
   "source": []
  }
 ],
 "metadata": {
  "kernelspec": {
   "display_name": "CrypTen",
   "language": "python",
   "name": "crypten"
  },
  "language_info": {
   "codemirror_mode": {
    "name": "ipython",
    "version": 3
   },
   "file_extension": ".py",
   "mimetype": "text/x-python",
   "name": "python",
   "nbconvert_exporter": "python",
   "pygments_lexer": "ipython3",
   "version": "3.8.6"
  }
 },
 "nbformat": 4,
 "nbformat_minor": 5
}
