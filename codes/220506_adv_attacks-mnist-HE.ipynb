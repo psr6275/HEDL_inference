{
 "cells": [
  {
   "cell_type": "code",
   "execution_count": 2,
   "id": "4eb412b5",
   "metadata": {},
   "outputs": [],
   "source": [
    "import torch\n",
    "import torch.nn as nn\n",
    "import torch.optim as optim"
   ]
  },
  {
   "cell_type": "code",
   "execution_count": 3,
   "id": "d4b4e98f",
   "metadata": {},
   "outputs": [],
   "source": [
    "device = 'cuda:3' if torch.cuda.is_available() else 'cpu'"
   ]
  },
  {
   "cell_type": "code",
   "execution_count": 4,
   "id": "09f21f43",
   "metadata": {},
   "outputs": [],
   "source": [
    "torch.cuda.set_device(device)"
   ]
  },
  {
   "cell_type": "code",
   "execution_count": 5,
   "id": "59bd9c5b",
   "metadata": {},
   "outputs": [],
   "source": [
    "from utils import load_mnist, load_emnist_letters"
   ]
  },
  {
   "cell_type": "code",
   "execution_count": 6,
   "id": "abb49b47",
   "metadata": {},
   "outputs": [],
   "source": [
    "# load cifar10 data\n",
    "trainloader, testloader = load_mnist(data_dir=\"../data/mnist\", batch_size=128, \n",
    "                                       test_batch = 128,train_shuffle=True)\n",
    "# classes = ('plane', 'car', 'bird', 'cat', 'deer',\n",
    "#            'dog', 'frog', 'horse', 'ship', 'truck')"
   ]
  },
  {
   "cell_type": "code",
   "execution_count": 7,
   "id": "b764e5d5",
   "metadata": {},
   "outputs": [],
   "source": [
    "from utils import train_valid_split"
   ]
  },
  {
   "cell_type": "code",
   "execution_count": 8,
   "id": "145fc7eb",
   "metadata": {},
   "outputs": [],
   "source": [
    "# load dataloader for steal\n",
    "stealloader,st_testloader = load_emnist_letters(data_dir=\"../data/mnist\", batch_size=128, train_shuffle=False)"
   ]
  },
  {
   "cell_type": "code",
   "execution_count": 9,
   "id": "d98fb28f",
   "metadata": {},
   "outputs": [
    {
     "name": "stdout",
     "output_type": "stream",
     "text": [
      "total data: 10000\n"
     ]
    }
   ],
   "source": [
    "st_trloader, st_valloader = train_valid_split(stealloader,10000, datatype=\"mnist\",seed=1228)"
   ]
  },
  {
   "cell_type": "code",
   "execution_count": 50,
   "id": "b80e9ed3",
   "metadata": {},
   "outputs": [],
   "source": [
    "class args:\n",
    "    save_dir = \"../results\"\n",
    "    orig_model = \"mnist_orig_net.pth\"\n",
    "#     fake_model = \"mnist_fake_mpc_minloss_swd.pth\"\n",
    "#     fake_model = \"mnist_fake_mpc_minloss.pth\"\n",
    "    fake_model = \"mnist_fake_taylor.pth\"\n",
    "    fake_model_swd = \"mnist_fake_taylor_swd.pth\"\n",
    "    tau = 0.4\n",
    "#     nb_stolen = 10000 # attack model 학습시 사용할 데이터 수\n",
    "#     st_trloader = \"attnet_trloader.dl\"\n",
    "#     st_valloader = \"attnet_valloader.dl\"\n",
    "#     att_epochs = 300\n",
    "    att_model = \"mnist_attacknet_hard_taylor_ml_tau%s.pth\"%tau\n",
    "    att_model_swd = \"mnist_attacknet_hard_taylor_swd_tau%s.pth\"%tau\n",
    "#     att_model = \"mnist_attacknet_mpc_ml_swd_tau%s.pth\"%tau"
   ]
  },
  {
   "cell_type": "code",
   "execution_count": 51,
   "id": "a0aa9d0a",
   "metadata": {},
   "outputs": [
    {
     "data": {
      "text/plain": [
       "'mnist_attacknet_hard_taylor_ml_tau0.4.pth'"
      ]
     },
     "execution_count": 51,
     "metadata": {},
     "output_type": "execute_result"
    }
   ],
   "source": [
    "args.att_model"
   ]
  },
  {
   "cell_type": "code",
   "execution_count": 52,
   "id": "2c2194b5",
   "metadata": {},
   "outputs": [],
   "source": [
    "# from cifar_models import Net, Net_logit, AttackNet\n",
    "from mnist_models import small_NetMNIST, NetMNIST\n",
    "from utils import CombNet, CombNet_logit, Net_softmax"
   ]
  },
  {
   "cell_type": "code",
   "execution_count": 55,
   "id": "7d7ad795",
   "metadata": {},
   "outputs": [],
   "source": [
    "import os\n",
    "net = NetMNIST()\n",
    "net.load_state_dict(torch.load(os.path.join(args.save_dir,args.orig_model),map_location='cpu'))\n",
    "\n",
    "net_fake = NetMNIST()\n",
    "net_fake.load_state_dict(torch.load(os.path.join(args.save_dir,args.fake_model),map_location='cpu'))\n",
    "\n",
    "net_fake_swd = NetMNIST()\n",
    "net_fake_swd.load_state_dict(torch.load(os.path.join(args.save_dir,args.fake_model_swd),map_location='cpu'))\n",
    "\n",
    "\n",
    "comb_net = CombNet(net, net_fake, args.tau)\n",
    "comb_net_swd = CombNet(net, net_fake_swd, args.tau)"
   ]
  },
  {
   "cell_type": "code",
   "execution_count": 56,
   "id": "078b5457",
   "metadata": {},
   "outputs": [
    {
     "name": "stdout",
     "output_type": "stream",
     "text": [
      "../results/mnist_attacknet_hard_taylor_ml_tau0.4.pth\n",
      "../results/mnist_attacknet_hard_taylor_swd_tau0.4.pth\n"
     ]
    }
   ],
   "source": [
    "print(os.path.join(args.save_dir, args.att_model))\n",
    "print(os.path.join(args.save_dir, args.att_model_swd))"
   ]
  },
  {
   "cell_type": "code",
   "execution_count": 57,
   "id": "45b4352f",
   "metadata": {},
   "outputs": [],
   "source": [
    "criterion = nn.CrossEntropyLoss()\n",
    "criterion_NLL = nn.NLLLoss()"
   ]
  },
  {
   "cell_type": "markdown",
   "id": "11180991",
   "metadata": {},
   "source": [
    "# Adversarial PGD attacks"
   ]
  },
  {
   "cell_type": "code",
   "execution_count": 58,
   "id": "ca65b615",
   "metadata": {},
   "outputs": [
    {
     "data": {
      "text/plain": [
       "<All keys matched successfully>"
      ]
     },
     "execution_count": 58,
     "metadata": {},
     "output_type": "execute_result"
    }
   ],
   "source": [
    "att_net = AttackNetMNIST()\n",
    "att_net.load_state_dict(torch.load(os.path.join(args.save_dir, args.att_model),map_location='cpu'))\n",
    "\n",
    "att_net_swd = AttackNetMNIST()\n",
    "att_net_swd.load_state_dict(torch.load(os.path.join(args.save_dir, args.att_model_swd),map_location='cpu'))"
   ]
  },
  {
   "cell_type": "code",
   "execution_count": 59,
   "id": "e74e6b4a",
   "metadata": {},
   "outputs": [],
   "source": [
    "from torchattacks import PGD"
   ]
  },
  {
   "cell_type": "code",
   "execution_count": 60,
   "id": "9bef0ffc",
   "metadata": {},
   "outputs": [
    {
     "name": "stdout",
     "output_type": "stream",
     "text": [
      "- Save progress: 100.00 % / Robust accuracy: 77.69 % / L2: 17.57829 (0.072 it/s) \t\n"
     ]
    }
   ],
   "source": [
    "atk_logit_ml = PGD(att_net, eps=8/255, alpha=2/255, steps=7)\n",
    "atk_logit_ml.save(data_loader=testloader,save_path = os.path.join(args.save_dir, 'mnist_HE_adv.pth'))"
   ]
  },
  {
   "cell_type": "code",
   "execution_count": 61,
   "id": "b08cbdf8",
   "metadata": {},
   "outputs": [
    {
     "name": "stdout",
     "output_type": "stream",
     "text": [
      "- Save progress: 100.00 % / Robust accuracy: 77.37 % / L2: 17.69803 (0.064 it/s) \t\n"
     ]
    }
   ],
   "source": [
    "atk_logit_ml_swd = PGD(att_net_swd, eps=8/255, alpha=2/255, steps=7)\n",
    "atk_logit_ml_swd.save(data_loader=testloader,save_path = os.path.join(args.save_dir, 'mnist_HE_swd_adv.pth'))"
   ]
  },
  {
   "cell_type": "code",
   "execution_count": 62,
   "id": "c9266029",
   "metadata": {},
   "outputs": [],
   "source": [
    "adv_images, adv_labels = torch.load(os.path.join(args.save_dir, 'mnist_HE_adv.pth'))\n",
    "adv_images_swd, adv_labels_swd = torch.load(os.path.join(args.save_dir, 'mnist_HE_swd_adv.pth'))"
   ]
  },
  {
   "cell_type": "code",
   "execution_count": 63,
   "id": "0de596a8",
   "metadata": {},
   "outputs": [],
   "source": [
    "from torch.utils.data import TensorDataset, DataLoader\n",
    "adv_loader = DataLoader(TensorDataset(adv_images.float(),adv_labels),batch_size=128, shuffle=False)\n",
    "adv_loader_swd = DataLoader(TensorDataset(adv_images_swd.float(),adv_labels_swd),batch_size=128, shuffle=False)"
   ]
  },
  {
   "cell_type": "code",
   "execution_count": 64,
   "id": "d08f22e4",
   "metadata": {},
   "outputs": [],
   "source": [
    "from utils import test_model"
   ]
  },
  {
   "cell_type": "code",
   "execution_count": 65,
   "id": "bf15e805",
   "metadata": {
    "scrolled": true
   },
   "outputs": [
    {
     "name": "stdout",
     "output_type": "stream",
     "text": [
      "(tensor(1.2880), tensor(80.7600))\n",
      "(tensor(1.1626), tensor(80.8100))\n"
     ]
    }
   ],
   "source": [
    "print(test_model(comb_net.to(device),adv_loader,criterion_NLL,device,100.0,pred_prob=True))\n",
    "print(test_model(comb_net_swd.to(device),adv_loader_swd,criterion_NLL,device,100.0,pred_prob=True))"
   ]
  },
  {
   "cell_type": "code",
   "execution_count": null,
   "id": "4cc16cdb",
   "metadata": {},
   "outputs": [],
   "source": []
  }
 ],
 "metadata": {
  "kernelspec": {
   "display_name": "torch19",
   "language": "python",
   "name": "torch19"
  },
  "language_info": {
   "codemirror_mode": {
    "name": "ipython",
    "version": 3
   },
   "file_extension": ".py",
   "mimetype": "text/x-python",
   "name": "python",
   "nbconvert_exporter": "python",
   "pygments_lexer": "ipython3",
   "version": "3.9.5"
  }
 },
 "nbformat": 4,
 "nbformat_minor": 5
}
