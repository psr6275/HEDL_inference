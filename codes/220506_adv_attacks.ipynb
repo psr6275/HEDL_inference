{
 "cells": [
  {
   "cell_type": "code",
   "execution_count": 1,
   "id": "4eb412b5",
   "metadata": {},
   "outputs": [],
   "source": [
    "import torch\n",
    "import torch.nn as nn\n",
    "import torch.optim as optim"
   ]
  },
  {
   "cell_type": "code",
   "execution_count": 5,
   "id": "d4b4e98f",
   "metadata": {},
   "outputs": [],
   "source": [
    "device = 'cuda:3' if torch.cuda.is_available() else 'cpu'"
   ]
  },
  {
   "cell_type": "code",
   "execution_count": 6,
   "id": "09f21f43",
   "metadata": {},
   "outputs": [],
   "source": [
    "torch.cuda.set_device(device)"
   ]
  },
  {
   "cell_type": "code",
   "execution_count": 7,
   "id": "59bd9c5b",
   "metadata": {},
   "outputs": [],
   "source": [
    "from utils import load_cifar10, load_cifar100, load_tinyimagenet"
   ]
  },
  {
   "cell_type": "code",
   "execution_count": 8,
   "id": "abb49b47",
   "metadata": {},
   "outputs": [
    {
     "name": "stdout",
     "output_type": "stream",
     "text": [
      "Files already downloaded and verified\n",
      "Files already downloaded and verified\n"
     ]
    }
   ],
   "source": [
    "# load cifar10 data\n",
    "trainloader, testloader = load_cifar10(data_dir=\"../data/cifar10\", batch_size=128, \n",
    "                                       test_batch = 128,train_shuffle=True)\n",
    "classes = ('plane', 'car', 'bird', 'cat', 'deer',\n",
    "           'dog', 'frog', 'horse', 'ship', 'truck')"
   ]
  },
  {
   "cell_type": "code",
   "execution_count": 9,
   "id": "b764e5d5",
   "metadata": {},
   "outputs": [],
   "source": [
    "from utils import train_valid_split"
   ]
  },
  {
   "cell_type": "code",
   "execution_count": 10,
   "id": "145fc7eb",
   "metadata": {},
   "outputs": [
    {
     "name": "stdout",
     "output_type": "stream",
     "text": [
      "Files already downloaded and verified\n",
      "Files already downloaded and verified\n"
     ]
    }
   ],
   "source": [
    "# load dataloader for steal\n",
    "stealloader,st_testloader = load_cifar100(data_dir=\"../data/cifar100\", batch_size=128, train_shuffle=False)"
   ]
  },
  {
   "cell_type": "code",
   "execution_count": 11,
   "id": "d98fb28f",
   "metadata": {},
   "outputs": [
    {
     "name": "stdout",
     "output_type": "stream",
     "text": [
      "total data: 10000\n"
     ]
    }
   ],
   "source": [
    "st_trloader, st_valloader = train_valid_split(stealloader,10000)"
   ]
  },
  {
   "cell_type": "code",
   "execution_count": 12,
   "id": "7569079b",
   "metadata": {},
   "outputs": [],
   "source": [
    "# load tinyimagenet for outlier exposure\n",
    "outlier_loader = load_tinyimagenet(data_dir=\"../data/tiny-imagenet-200\",\n",
    "                                   batch_size=128, train_shuffle=True)"
   ]
  },
  {
   "cell_type": "code",
   "execution_count": 58,
   "id": "b80e9ed3",
   "metadata": {},
   "outputs": [],
   "source": [
    "class args:\n",
    "    save_dir = \"../results\"\n",
    "    orig_model = \"cifar_orig_logit.pth\"\n",
    "#     fake_model = \"cifar_fake_random_net.pth\"\n",
    "    fake_model = \"cifar_fake_logit_ML.pth\"\n",
    "    fake_model_swd = \"cifar_fake_logit_ML_swd.pth\"\n",
    "    tau = 0.5\n",
    "#     nb_stolen = 10000 # attack model 학습시 사용할 데이터 수\n",
    "#     st_trloader = \"attnet_trloader.dl\"\n",
    "#     st_valloader = \"attnet_valloader.dl\"\n",
    "#     att_epochs = 300\n",
    "    att_model = \"cifar_attacknet_logit_ml_tau%.1f.pth\"%(tau)\n",
    "    att_model_swd = \"cifar_attacknet_logit_ml_swd_tau%.1f.pth\"%(tau)"
   ]
  },
  {
   "cell_type": "code",
   "execution_count": 59,
   "id": "a0aa9d0a",
   "metadata": {},
   "outputs": [
    {
     "data": {
      "text/plain": [
       "'cifar_attacknet_logit_ml_tau0.5.pth'"
      ]
     },
     "execution_count": 59,
     "metadata": {},
     "output_type": "execute_result"
    }
   ],
   "source": [
    "args.att_model"
   ]
  },
  {
   "cell_type": "code",
   "execution_count": 60,
   "id": "2c2194b5",
   "metadata": {},
   "outputs": [],
   "source": [
    "from cifar_models import Net, Net_logit, AttackNet\n",
    "from utils import CombNet, CombNet_logit, Net_softmax"
   ]
  },
  {
   "cell_type": "code",
   "execution_count": 61,
   "id": "7d7ad795",
   "metadata": {},
   "outputs": [],
   "source": [
    "import os\n",
    "net = AttackNet()\n",
    "net.load_state_dict(torch.load(os.path.join(args.save_dir,args.orig_model),map_location='cpu'))\n",
    "net = Net_softmax(net)\n",
    "\n",
    "net_fake = AttackNet()\n",
    "net_fake.load_state_dict(torch.load(os.path.join(args.save_dir,args.fake_model),map_location='cpu'))\n",
    "net_fake = Net_softmax(net_fake)\n",
    "\n",
    "net_fake_swd = AttackNet()\n",
    "net_fake_swd.load_state_dict(torch.load(os.path.join(args.save_dir,args.fake_model_swd),map_location='cpu'))\n",
    "net_fake_swd = Net_softmax(net_fake_swd)\n",
    "\n",
    "\n",
    "comb_net = CombNet(net, net_fake, args.tau)\n",
    "comb_net_swd = CombNet(net, net_fake_swd, args.tau)"
   ]
  },
  {
   "cell_type": "code",
   "execution_count": 57,
   "id": "078b5457",
   "metadata": {},
   "outputs": [
    {
     "name": "stdout",
     "output_type": "stream",
     "text": [
      "../results/cifar_attacknet_logit_ml_tau0.5.pth\n",
      "../results/cifar_attacknet_logit_ml_swd_tau0.5.pth\n"
     ]
    }
   ],
   "source": [
    "print(os.path.join(args.save_dir, args.att_model))\n",
    "print(os.path.join(args.save_dir, args.att_model_swd))"
   ]
  },
  {
   "cell_type": "code",
   "execution_count": 33,
   "id": "45b4352f",
   "metadata": {},
   "outputs": [],
   "source": [
    "criterion = nn.CrossEntropyLoss()\n",
    "criterion_NLL = nn.NLLLoss()"
   ]
  },
  {
   "cell_type": "markdown",
   "id": "11180991",
   "metadata": {},
   "source": [
    "# Adversarial PGD attacks"
   ]
  },
  {
   "cell_type": "code",
   "execution_count": 46,
   "id": "ca65b615",
   "metadata": {},
   "outputs": [
    {
     "data": {
      "text/plain": [
       "<All keys matched successfully>"
      ]
     },
     "execution_count": 46,
     "metadata": {},
     "output_type": "execute_result"
    }
   ],
   "source": [
    "att_net = AttackNet()\n",
    "att_net.load_state_dict(torch.load(os.path.join(args.save_dir, args.att_model),map_location='cpu'))\n",
    "\n",
    "att_net_swd = AttackNet()\n",
    "att_net_swd.load_state_dict(torch.load(os.path.join(args.save_dir, args.att_model_swd),map_location='cpu'))"
   ]
  },
  {
   "cell_type": "code",
   "execution_count": 21,
   "id": "e74e6b4a",
   "metadata": {},
   "outputs": [],
   "source": [
    "from torchattacks import PGD"
   ]
  },
  {
   "cell_type": "code",
   "execution_count": 47,
   "id": "9bef0ffc",
   "metadata": {},
   "outputs": [
    {
     "name": "stdout",
     "output_type": "stream",
     "text": [
      "- Save progress: 100.00 % / Robust accuracy: 2.70 % / L2: 19.18600 (0.097 it/s) \t\n"
     ]
    }
   ],
   "source": [
    "atk_logit_ml = PGD(att_net, eps=8/255, alpha=2/255, steps=7)\n",
    "atk_logit_ml.save(data_loader=testloader,save_path = os.path.join(args.save_dir, 'cifar_adv_logit_ml0.5.pth'))"
   ]
  },
  {
   "cell_type": "code",
   "execution_count": 48,
   "id": "b08cbdf8",
   "metadata": {},
   "outputs": [
    {
     "name": "stdout",
     "output_type": "stream",
     "text": [
      "- Save progress: 100.00 % / Robust accuracy: 3.31 % / L2: 19.22256 (0.102 it/s) \t\n"
     ]
    }
   ],
   "source": [
    "atk_logit_ml_swd = PGD(att_net_swd, eps=8/255, alpha=2/255, steps=7)\n",
    "atk_logit_ml_swd.save(data_loader=testloader,save_path = os.path.join(args.save_dir, 'cifar_adv_logit_ml_swd0.5.pth'))"
   ]
  },
  {
   "cell_type": "code",
   "execution_count": 49,
   "id": "c9266029",
   "metadata": {},
   "outputs": [],
   "source": [
    "adv_images, adv_labels = torch.load(os.path.join(args.save_dir, 'cifar_adv_logit_ml0.5.pth'))\n",
    "adv_images_swd, adv_labels_swd = torch.load(os.path.join(args.save_dir, 'cifar_adv_logit_ml_swd0.5.pth'))"
   ]
  },
  {
   "cell_type": "code",
   "execution_count": 50,
   "id": "0de596a8",
   "metadata": {},
   "outputs": [],
   "source": [
    "from torch.utils.data import TensorDataset, DataLoader\n",
    "adv_loader = DataLoader(TensorDataset(adv_images.float(),adv_labels),batch_size=128, shuffle=False)\n",
    "adv_loader_swd = DataLoader(TensorDataset(adv_images_swd.float(),adv_labels_swd),batch_size=128, shuffle=False)"
   ]
  },
  {
   "cell_type": "code",
   "execution_count": 51,
   "id": "d08f22e4",
   "metadata": {},
   "outputs": [],
   "source": [
    "from utils import test_model"
   ]
  },
  {
   "cell_type": "code",
   "execution_count": 52,
   "id": "c7de68f9",
   "metadata": {},
   "outputs": [
    {
     "name": "stdout",
     "output_type": "stream",
     "text": [
      "(tensor(3.7704), tensor(2.7000))\n",
      "(tensor(5.1928), tensor(26.1800))\n"
     ]
    }
   ],
   "source": [
    "att_net.to(device)\n",
    "print(test_model(att_net,adv_loader,criterion,device,100.0))\n",
    "att_net.cpu()\n",
    "comb_net.to(device)\n",
    "print(test_model(comb_net,adv_loader,criterion_NLL,device,100.0,pred_prob=True))"
   ]
  },
  {
   "cell_type": "code",
   "execution_count": 53,
   "id": "bf15e805",
   "metadata": {
    "scrolled": true
   },
   "outputs": [
    {
     "data": {
      "text/plain": [
       "CombNet(\n",
       "  (net_orig): Net_softmax(\n",
       "    (model): AttackNet(\n",
       "      (pool): MaxPool2d(kernel_size=2, stride=2, padding=0, dilation=1, ceil_mode=False)\n",
       "      (conv1): Conv2d(3, 32, kernel_size=(3, 3), stride=(1, 1), padding=(1, 1))\n",
       "      (conv2): Conv2d(32, 64, kernel_size=(3, 3), stride=(1, 1), padding=(1, 1))\n",
       "      (conv3): Conv2d(64, 128, kernel_size=(3, 3), stride=(1, 1), padding=(1, 1))\n",
       "      (classifier): Sequential(\n",
       "        (0): Linear(in_features=2048, out_features=256, bias=True)\n",
       "        (1): Linear(in_features=256, out_features=10, bias=True)\n",
       "      )\n",
       "    )\n",
       "  )\n",
       "  (net_fake): Net_softmax(\n",
       "    (model): AttackNet(\n",
       "      (pool): MaxPool2d(kernel_size=2, stride=2, padding=0, dilation=1, ceil_mode=False)\n",
       "      (conv1): Conv2d(3, 32, kernel_size=(3, 3), stride=(1, 1), padding=(1, 1))\n",
       "      (conv2): Conv2d(32, 64, kernel_size=(3, 3), stride=(1, 1), padding=(1, 1))\n",
       "      (conv3): Conv2d(64, 128, kernel_size=(3, 3), stride=(1, 1), padding=(1, 1))\n",
       "      (classifier): Sequential(\n",
       "        (0): Linear(in_features=2048, out_features=256, bias=True)\n",
       "        (1): Linear(in_features=256, out_features=10, bias=True)\n",
       "      )\n",
       "    )\n",
       "  )\n",
       ")"
      ]
     },
     "execution_count": 53,
     "metadata": {},
     "output_type": "execute_result"
    }
   ],
   "source": [
    "comb_net.cpu()"
   ]
  },
  {
   "cell_type": "code",
   "execution_count": 54,
   "id": "55629bf3",
   "metadata": {},
   "outputs": [
    {
     "name": "stdout",
     "output_type": "stream",
     "text": [
      "(tensor(3.9693), tensor(3.3100))\n",
      "(tensor(6.7935), tensor(28.4400))\n"
     ]
    }
   ],
   "source": [
    "att_net_swd.to(device)\n",
    "print(test_model(att_net_swd,adv_loader_swd,criterion,device,100.0))\n",
    "att_net_swd.cpu()\n",
    "comb_net_swd.to(device)\n",
    "print(test_model(comb_net_swd,adv_loader_swd,criterion_NLL,device,100.0,pred_prob=True))"
   ]
  },
  {
   "cell_type": "code",
   "execution_count": 55,
   "id": "1817ab82",
   "metadata": {
    "scrolled": true
   },
   "outputs": [
    {
     "data": {
      "text/plain": [
       "CombNet(\n",
       "  (net_orig): Net_softmax(\n",
       "    (model): AttackNet(\n",
       "      (pool): MaxPool2d(kernel_size=2, stride=2, padding=0, dilation=1, ceil_mode=False)\n",
       "      (conv1): Conv2d(3, 32, kernel_size=(3, 3), stride=(1, 1), padding=(1, 1))\n",
       "      (conv2): Conv2d(32, 64, kernel_size=(3, 3), stride=(1, 1), padding=(1, 1))\n",
       "      (conv3): Conv2d(64, 128, kernel_size=(3, 3), stride=(1, 1), padding=(1, 1))\n",
       "      (classifier): Sequential(\n",
       "        (0): Linear(in_features=2048, out_features=256, bias=True)\n",
       "        (1): Linear(in_features=256, out_features=10, bias=True)\n",
       "      )\n",
       "    )\n",
       "  )\n",
       "  (net_fake): Net_softmax(\n",
       "    (model): AttackNet(\n",
       "      (pool): MaxPool2d(kernel_size=2, stride=2, padding=0, dilation=1, ceil_mode=False)\n",
       "      (conv1): Conv2d(3, 32, kernel_size=(3, 3), stride=(1, 1), padding=(1, 1))\n",
       "      (conv2): Conv2d(32, 64, kernel_size=(3, 3), stride=(1, 1), padding=(1, 1))\n",
       "      (conv3): Conv2d(64, 128, kernel_size=(3, 3), stride=(1, 1), padding=(1, 1))\n",
       "      (classifier): Sequential(\n",
       "        (0): Linear(in_features=2048, out_features=256, bias=True)\n",
       "        (1): Linear(in_features=256, out_features=10, bias=True)\n",
       "      )\n",
       "    )\n",
       "  )\n",
       ")"
      ]
     },
     "execution_count": 55,
     "metadata": {},
     "output_type": "execute_result"
    }
   ],
   "source": [
    "comb_net_swd.cpu()"
   ]
  },
  {
   "cell_type": "code",
   "execution_count": null,
   "id": "4cc16cdb",
   "metadata": {},
   "outputs": [],
   "source": []
  }
 ],
 "metadata": {
  "kernelspec": {
   "display_name": "torch19",
   "language": "python",
   "name": "torch19"
  },
  "language_info": {
   "codemirror_mode": {
    "name": "ipython",
    "version": 3
   },
   "file_extension": ".py",
   "mimetype": "text/x-python",
   "name": "python",
   "nbconvert_exporter": "python",
   "pygments_lexer": "ipython3",
   "version": "3.9.5"
  }
 },
 "nbformat": 4,
 "nbformat_minor": 5
}
